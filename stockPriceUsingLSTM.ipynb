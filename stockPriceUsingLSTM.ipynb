{
  "nbformat": 4,
  "nbformat_minor": 0,
  "metadata": {
    "kernelspec": {
      "display_name": "Python 3",
      "language": "python",
      "name": "python3"
    },
    "language_info": {
      "codemirror_mode": {
        "name": "ipython",
        "version": 3
      },
      "file_extension": ".py",
      "mimetype": "text/x-python",
      "name": "python",
      "nbconvert_exporter": "python",
      "pygments_lexer": "ipython3",
      "version": "3.6.9"
    },
    "colab": {
      "name": "Untitled.ipynb",
      "provenance": [],
      "include_colab_link": true
    }
  },
  "cells": [
    {
      "cell_type": "markdown",
      "metadata": {
        "id": "view-in-github",
        "colab_type": "text"
      },
      "source": [
        "<a href=\"https://colab.research.google.com/github/garvitburad/Stock-price-prediction-with-stacked-LSTM/blob/master/stockPriceUsingLSTM.ipynb\" target=\"_parent\"><img src=\"https://colab.research.google.com/assets/colab-badge.svg\" alt=\"Open In Colab\"/></a>"
      ]
    },
    {
      "cell_type": "markdown",
      "metadata": {
        "id": "erpR0qOsQ3y2",
        "colab_type": "text"
      },
      "source": [
        "### Stock Market Prediction And Forecasting Using Stacked LSTM"
      ]
    },
    {
      "cell_type": "code",
      "metadata": {
        "id": "clsQ0RNUQ3y3",
        "colab_type": "code",
        "colab": {}
      },
      "source": [
        "### Keras and Tensorflow >2.0"
      ],
      "execution_count": 34,
      "outputs": []
    },
    {
      "cell_type": "code",
      "metadata": {
        "id": "M3QAEIRyQ3y7",
        "colab_type": "code",
        "colab": {}
      },
      "source": [
        "### Data Collection\n",
        "import pandas_datareader as pdr\n",
        "key=\"\""
      ],
      "execution_count": 35,
      "outputs": []
    },
    {
      "cell_type": "code",
      "metadata": {
        "id": "_pY210g5Q3y9",
        "colab_type": "code",
        "colab": {}
      },
      "source": [
        "df = pdr.get_data_tiingo('AAPL', api_key=key)"
      ],
      "execution_count": 36,
      "outputs": []
    },
    {
      "cell_type": "code",
      "metadata": {
        "id": "C9EofND6Q3zA",
        "colab_type": "code",
        "colab": {}
      },
      "source": [
        "df.to_csv('AAPL.csv')"
      ],
      "execution_count": 37,
      "outputs": []
    },
    {
      "cell_type": "code",
      "metadata": {
        "id": "HxzhF_L9Q3zC",
        "colab_type": "code",
        "colab": {}
      },
      "source": [
        "import pandas as pd"
      ],
      "execution_count": 38,
      "outputs": []
    },
    {
      "cell_type": "code",
      "metadata": {
        "id": "54z-BKdbQ3zF",
        "colab_type": "code",
        "colab": {}
      },
      "source": [
        "df=pd.read_csv('AAPL.csv')"
      ],
      "execution_count": 39,
      "outputs": []
    },
    {
      "cell_type": "code",
      "metadata": {
        "id": "cQVIcHWaQ3zH",
        "colab_type": "code",
        "colab": {
          "base_uri": "https://localhost:8080/",
          "height": 195
        },
        "outputId": "8828f15c-d08b-4509-8c7c-4f8122f844a2"
      },
      "source": [
        "df.head()"
      ],
      "execution_count": 40,
      "outputs": [
        {
          "output_type": "execute_result",
          "data": {
            "text/html": [
              "<div>\n",
              "<style scoped>\n",
              "    .dataframe tbody tr th:only-of-type {\n",
              "        vertical-align: middle;\n",
              "    }\n",
              "\n",
              "    .dataframe tbody tr th {\n",
              "        vertical-align: top;\n",
              "    }\n",
              "\n",
              "    .dataframe thead th {\n",
              "        text-align: right;\n",
              "    }\n",
              "</style>\n",
              "<table border=\"1\" class=\"dataframe\">\n",
              "  <thead>\n",
              "    <tr style=\"text-align: right;\">\n",
              "      <th></th>\n",
              "      <th>symbol</th>\n",
              "      <th>date</th>\n",
              "      <th>close</th>\n",
              "      <th>high</th>\n",
              "      <th>low</th>\n",
              "      <th>open</th>\n",
              "      <th>volume</th>\n",
              "      <th>adjClose</th>\n",
              "      <th>adjHigh</th>\n",
              "      <th>adjLow</th>\n",
              "      <th>adjOpen</th>\n",
              "      <th>adjVolume</th>\n",
              "      <th>divCash</th>\n",
              "      <th>splitFactor</th>\n",
              "    </tr>\n",
              "  </thead>\n",
              "  <tbody>\n",
              "    <tr>\n",
              "      <th>0</th>\n",
              "      <td>AAPL</td>\n",
              "      <td>2015-08-17 00:00:00+00:00</td>\n",
              "      <td>117.16</td>\n",
              "      <td>117.65</td>\n",
              "      <td>115.500</td>\n",
              "      <td>116.04</td>\n",
              "      <td>40884745</td>\n",
              "      <td>108.253598</td>\n",
              "      <td>108.706348</td>\n",
              "      <td>106.719789</td>\n",
              "      <td>107.218739</td>\n",
              "      <td>40884745</td>\n",
              "      <td>0.0</td>\n",
              "      <td>1.0</td>\n",
              "    </tr>\n",
              "    <tr>\n",
              "      <th>1</th>\n",
              "      <td>AAPL</td>\n",
              "      <td>2015-08-18 00:00:00+00:00</td>\n",
              "      <td>116.50</td>\n",
              "      <td>117.44</td>\n",
              "      <td>116.010</td>\n",
              "      <td>116.43</td>\n",
              "      <td>34560708</td>\n",
              "      <td>107.643770</td>\n",
              "      <td>108.512312</td>\n",
              "      <td>107.191020</td>\n",
              "      <td>107.579092</td>\n",
              "      <td>34560708</td>\n",
              "      <td>0.0</td>\n",
              "      <td>1.0</td>\n",
              "    </tr>\n",
              "    <tr>\n",
              "      <th>2</th>\n",
              "      <td>AAPL</td>\n",
              "      <td>2015-08-19 00:00:00+00:00</td>\n",
              "      <td>115.01</td>\n",
              "      <td>116.52</td>\n",
              "      <td>114.680</td>\n",
              "      <td>116.10</td>\n",
              "      <td>48286510</td>\n",
              "      <td>106.267039</td>\n",
              "      <td>107.662250</td>\n",
              "      <td>105.962125</td>\n",
              "      <td>107.274178</td>\n",
              "      <td>48286510</td>\n",
              "      <td>0.0</td>\n",
              "      <td>1.0</td>\n",
              "    </tr>\n",
              "    <tr>\n",
              "      <th>3</th>\n",
              "      <td>AAPL</td>\n",
              "      <td>2015-08-20 00:00:00+00:00</td>\n",
              "      <td>112.65</td>\n",
              "      <td>114.35</td>\n",
              "      <td>111.630</td>\n",
              "      <td>114.08</td>\n",
              "      <td>68501622</td>\n",
              "      <td>104.086444</td>\n",
              "      <td>105.657211</td>\n",
              "      <td>103.143984</td>\n",
              "      <td>105.407737</td>\n",
              "      <td>68501622</td>\n",
              "      <td>0.0</td>\n",
              "      <td>1.0</td>\n",
              "    </tr>\n",
              "    <tr>\n",
              "      <th>4</th>\n",
              "      <td>AAPL</td>\n",
              "      <td>2015-08-21 00:00:00+00:00</td>\n",
              "      <td>105.76</td>\n",
              "      <td>111.90</td>\n",
              "      <td>105.645</td>\n",
              "      <td>110.43</td>\n",
              "      <td>128275471</td>\n",
              "      <td>97.720216</td>\n",
              "      <td>103.393458</td>\n",
              "      <td>97.613958</td>\n",
              "      <td>102.035207</td>\n",
              "      <td>128275471</td>\n",
              "      <td>0.0</td>\n",
              "      <td>1.0</td>\n",
              "    </tr>\n",
              "  </tbody>\n",
              "</table>\n",
              "</div>"
            ],
            "text/plain": [
              "  symbol                       date   close  ...  adjVolume  divCash  splitFactor\n",
              "0   AAPL  2015-08-17 00:00:00+00:00  117.16  ...   40884745      0.0          1.0\n",
              "1   AAPL  2015-08-18 00:00:00+00:00  116.50  ...   34560708      0.0          1.0\n",
              "2   AAPL  2015-08-19 00:00:00+00:00  115.01  ...   48286510      0.0          1.0\n",
              "3   AAPL  2015-08-20 00:00:00+00:00  112.65  ...   68501622      0.0          1.0\n",
              "4   AAPL  2015-08-21 00:00:00+00:00  105.76  ...  128275471      0.0          1.0\n",
              "\n",
              "[5 rows x 14 columns]"
            ]
          },
          "metadata": {
            "tags": []
          },
          "execution_count": 40
        }
      ]
    },
    {
      "cell_type": "code",
      "metadata": {
        "id": "j43Xy4Y9Q3zL",
        "colab_type": "code",
        "colab": {
          "base_uri": "https://localhost:8080/",
          "height": 195
        },
        "outputId": "6878343f-d395-49a2-a46f-70b984182e7b"
      },
      "source": [
        "df.tail()"
      ],
      "execution_count": 41,
      "outputs": [
        {
          "output_type": "execute_result",
          "data": {
            "text/html": [
              "<div>\n",
              "<style scoped>\n",
              "    .dataframe tbody tr th:only-of-type {\n",
              "        vertical-align: middle;\n",
              "    }\n",
              "\n",
              "    .dataframe tbody tr th {\n",
              "        vertical-align: top;\n",
              "    }\n",
              "\n",
              "    .dataframe thead th {\n",
              "        text-align: right;\n",
              "    }\n",
              "</style>\n",
              "<table border=\"1\" class=\"dataframe\">\n",
              "  <thead>\n",
              "    <tr style=\"text-align: right;\">\n",
              "      <th></th>\n",
              "      <th>symbol</th>\n",
              "      <th>date</th>\n",
              "      <th>close</th>\n",
              "      <th>high</th>\n",
              "      <th>low</th>\n",
              "      <th>open</th>\n",
              "      <th>volume</th>\n",
              "      <th>adjClose</th>\n",
              "      <th>adjHigh</th>\n",
              "      <th>adjLow</th>\n",
              "      <th>adjOpen</th>\n",
              "      <th>adjVolume</th>\n",
              "      <th>divCash</th>\n",
              "      <th>splitFactor</th>\n",
              "    </tr>\n",
              "  </thead>\n",
              "  <tbody>\n",
              "    <tr>\n",
              "      <th>1252</th>\n",
              "      <td>AAPL</td>\n",
              "      <td>2020-08-06 00:00:00+00:00</td>\n",
              "      <td>455.61</td>\n",
              "      <td>457.65</td>\n",
              "      <td>439.1900</td>\n",
              "      <td>441.620</td>\n",
              "      <td>50607225</td>\n",
              "      <td>454.770958</td>\n",
              "      <td>456.807201</td>\n",
              "      <td>438.381197</td>\n",
              "      <td>440.806722</td>\n",
              "      <td>50607225</td>\n",
              "      <td>0.00</td>\n",
              "      <td>1.0</td>\n",
              "    </tr>\n",
              "    <tr>\n",
              "      <th>1253</th>\n",
              "      <td>AAPL</td>\n",
              "      <td>2020-08-07 00:00:00+00:00</td>\n",
              "      <td>444.45</td>\n",
              "      <td>454.70</td>\n",
              "      <td>441.1700</td>\n",
              "      <td>452.820</td>\n",
              "      <td>49511403</td>\n",
              "      <td>444.450000</td>\n",
              "      <td>454.700000</td>\n",
              "      <td>441.170000</td>\n",
              "      <td>452.820000</td>\n",
              "      <td>49511403</td>\n",
              "      <td>0.82</td>\n",
              "      <td>1.0</td>\n",
              "    </tr>\n",
              "    <tr>\n",
              "      <th>1254</th>\n",
              "      <td>AAPL</td>\n",
              "      <td>2020-08-10 00:00:00+00:00</td>\n",
              "      <td>450.91</td>\n",
              "      <td>455.10</td>\n",
              "      <td>440.0000</td>\n",
              "      <td>450.400</td>\n",
              "      <td>53100856</td>\n",
              "      <td>450.910000</td>\n",
              "      <td>455.100000</td>\n",
              "      <td>440.000000</td>\n",
              "      <td>450.400000</td>\n",
              "      <td>53100856</td>\n",
              "      <td>0.00</td>\n",
              "      <td>1.0</td>\n",
              "    </tr>\n",
              "    <tr>\n",
              "      <th>1255</th>\n",
              "      <td>AAPL</td>\n",
              "      <td>2020-08-11 00:00:00+00:00</td>\n",
              "      <td>437.50</td>\n",
              "      <td>449.93</td>\n",
              "      <td>436.4267</td>\n",
              "      <td>447.875</td>\n",
              "      <td>46975594</td>\n",
              "      <td>437.500000</td>\n",
              "      <td>449.930000</td>\n",
              "      <td>436.426700</td>\n",
              "      <td>447.875000</td>\n",
              "      <td>46975594</td>\n",
              "      <td>0.00</td>\n",
              "      <td>1.0</td>\n",
              "    </tr>\n",
              "    <tr>\n",
              "      <th>1256</th>\n",
              "      <td>AAPL</td>\n",
              "      <td>2020-08-12 00:00:00+00:00</td>\n",
              "      <td>452.04</td>\n",
              "      <td>453.10</td>\n",
              "      <td>441.1900</td>\n",
              "      <td>441.990</td>\n",
              "      <td>41486205</td>\n",
              "      <td>452.040000</td>\n",
              "      <td>453.100000</td>\n",
              "      <td>441.190000</td>\n",
              "      <td>441.990000</td>\n",
              "      <td>41486205</td>\n",
              "      <td>0.00</td>\n",
              "      <td>1.0</td>\n",
              "    </tr>\n",
              "  </tbody>\n",
              "</table>\n",
              "</div>"
            ],
            "text/plain": [
              "     symbol                       date   close  ...  adjVolume  divCash  splitFactor\n",
              "1252   AAPL  2020-08-06 00:00:00+00:00  455.61  ...   50607225     0.00          1.0\n",
              "1253   AAPL  2020-08-07 00:00:00+00:00  444.45  ...   49511403     0.82          1.0\n",
              "1254   AAPL  2020-08-10 00:00:00+00:00  450.91  ...   53100856     0.00          1.0\n",
              "1255   AAPL  2020-08-11 00:00:00+00:00  437.50  ...   46975594     0.00          1.0\n",
              "1256   AAPL  2020-08-12 00:00:00+00:00  452.04  ...   41486205     0.00          1.0\n",
              "\n",
              "[5 rows x 14 columns]"
            ]
          },
          "metadata": {
            "tags": []
          },
          "execution_count": 41
        }
      ]
    },
    {
      "cell_type": "code",
      "metadata": {
        "id": "Ep2F9hQDQ3zN",
        "colab_type": "code",
        "colab": {}
      },
      "source": [
        "df1=df.reset_index()['close']"
      ],
      "execution_count": 42,
      "outputs": []
    },
    {
      "cell_type": "code",
      "metadata": {
        "id": "pvr6jOdDQ3zQ",
        "colab_type": "code",
        "colab": {
          "base_uri": "https://localhost:8080/",
          "height": 218
        },
        "outputId": "130157db-5755-4144-bb66-1e197d2c4c04"
      },
      "source": [
        "df1"
      ],
      "execution_count": 43,
      "outputs": [
        {
          "output_type": "execute_result",
          "data": {
            "text/plain": [
              "0       117.16\n",
              "1       116.50\n",
              "2       115.01\n",
              "3       112.65\n",
              "4       105.76\n",
              "         ...  \n",
              "1252    455.61\n",
              "1253    444.45\n",
              "1254    450.91\n",
              "1255    437.50\n",
              "1256    452.04\n",
              "Name: close, Length: 1257, dtype: float64"
            ]
          },
          "metadata": {
            "tags": []
          },
          "execution_count": 43
        }
      ]
    },
    {
      "cell_type": "code",
      "metadata": {
        "id": "u9Vi_JA2Q3zU",
        "colab_type": "code",
        "colab": {
          "base_uri": "https://localhost:8080/",
          "height": 282
        },
        "outputId": "ad0018df-af60-4862-d27d-114c91fd6619"
      },
      "source": [
        "import matplotlib.pyplot as plt\n",
        "plt.plot(df1)"
      ],
      "execution_count": 44,
      "outputs": [
        {
          "output_type": "execute_result",
          "data": {
            "text/plain": [
              "[<matplotlib.lines.Line2D at 0x7f2913ac95c0>]"
            ]
          },
          "metadata": {
            "tags": []
          },
          "execution_count": 44
        },
        {
          "output_type": "display_data",
          "data": {
            "image/png": "[encoded data removed]",
            "text/plain": [
              "<Figure size 432x288 with 1 Axes>"
            ]
          },
          "metadata": {
            "tags": [],
            "needs_background": "light"
          }
        }
      ]
    },
    {
      "cell_type": "code",
      "metadata": {
        "id": "RTu6y0kbQ3zX",
        "colab_type": "code",
        "colab": {}
      },
      "source": [
        "### LSTM are sensitive to the scale of the data. so we apply MinMax scaler "
      ],
      "execution_count": 45,
      "outputs": []
    },
    {
      "cell_type": "code",
      "metadata": {
        "id": "xsfKrlEgQ3za",
        "colab_type": "code",
        "colab": {}
      },
      "source": [
        "import numpy as np"
      ],
      "execution_count": 46,
      "outputs": []
    },
    {
      "cell_type": "code",
      "metadata": {
        "id": "f5Jh54CEQ3zc",
        "colab_type": "code",
        "colab": {
          "base_uri": "https://localhost:8080/",
          "height": 218
        },
        "outputId": "af46a79b-e635-4152-dd5e-1d1ae071ecfd"
      },
      "source": [
        "df1"
      ],
      "execution_count": 47,
      "outputs": [
        {
          "output_type": "execute_result",
          "data": {
            "text/plain": [
              "0       117.16\n",
              "1       116.50\n",
              "2       115.01\n",
              "3       112.65\n",
              "4       105.76\n",
              "         ...  \n",
              "1252    455.61\n",
              "1253    444.45\n",
              "1254    450.91\n",
              "1255    437.50\n",
              "1256    452.04\n",
              "Name: close, Length: 1257, dtype: float64"
            ]
          },
          "metadata": {
            "tags": []
          },
          "execution_count": 47
        }
      ]
    },
    {
      "cell_type": "code",
      "metadata": {
        "id": "n8QPeQNtQ3ze",
        "colab_type": "code",
        "colab": {}
      },
      "source": [
        "from sklearn.preprocessing import MinMaxScaler\n",
        "scaler=MinMaxScaler(feature_range=(0,1))\n",
        "df1=scaler.fit_transform(np.array(df1).reshape(-1,1))"
      ],
      "execution_count": 48,
      "outputs": []
    },
    {
      "cell_type": "code",
      "metadata": {
        "id": "lwO5Gk5vQ3zg",
        "colab_type": "code",
        "colab": {
          "base_uri": "https://localhost:8080/",
          "height": 134
        },
        "outputId": "6d694e5b-aeff-41f8-abee-e058ed0a19b6"
      },
      "source": [
        "print(df1)"
      ],
      "execution_count": 49,
      "outputs": [
        {
          "output_type": "stream",
          "text": [
            "[[0.07342514]\n",
            " [0.07161825]\n",
            " [0.06753908]\n",
            " ...\n",
            " [0.98713281]\n",
            " [0.95042024]\n",
            " [0.99022641]]\n"
          ],
          "name": "stdout"
        }
      ]
    },
    {
      "cell_type": "code",
      "metadata": {
        "id": "3Nx_xBbdQ3zi",
        "colab_type": "code",
        "colab": {}
      },
      "source": [
        "##splitting dataset into train and test split\n",
        "training_size=int(len(df1)*0.65)\n",
        "test_size=len(df1)-training_size\n",
        "train_data,test_data=df1[0:training_size,:],df1[training_size:len(df1),:1]"
      ],
      "execution_count": 50,
      "outputs": []
    },
    {
      "cell_type": "code",
      "metadata": {
        "id": "MXt-THrKQ3zk",
        "colab_type": "code",
        "colab": {
          "base_uri": "https://localhost:8080/",
          "height": 34
        },
        "outputId": "7288f76d-4655-43c2-ae24-e3086f6ee338"
      },
      "source": [
        "training_size,test_size"
      ],
      "execution_count": 51,
      "outputs": [
        {
          "output_type": "execute_result",
          "data": {
            "text/plain": [
              "(817, 440)"
            ]
          },
          "metadata": {
            "tags": []
          },
          "execution_count": 51
        }
      ]
    },
    {
      "cell_type": "code",
      "metadata": {
        "id": "KVZWmRKqQ3zm",
        "colab_type": "code",
        "colab": {
          "base_uri": "https://localhost:8080/",
          "height": 1000
        },
        "outputId": "a8126e70-5dc7-4001-a5f8-b11484901e1e"
      },
      "source": [
        "train_data"
      ],
      "execution_count": 52,
      "outputs": [
        {
          "output_type": "execute_result",
          "data": {
            "text/plain": [
              "array([[0.07342514],\n",
              "       [0.07161825],\n",
              "       [0.06753908],\n",
              "       [0.06107811],\n",
              "       [0.04221535],\n",
              "       [0.03498782],\n",
              "       [0.03668519],\n",
              "       [0.05297451],\n",
              "       [0.06181729],\n",
              "       [0.06283024],\n",
              "       [0.06137925],\n",
              "       [0.04758124],\n",
              "       [0.06022942],\n",
              "       [0.05483615],\n",
              "       [0.05182468],\n",
              "       [0.06014729],\n",
              "       [0.05423385],\n",
              "       [0.06085909],\n",
              "       [0.06534892],\n",
              "       [0.06836039],\n",
              "       [0.07101596],\n",
              "       [0.07137186],\n",
              "       [0.06455499],\n",
              "       [0.06326827],\n",
              "       [0.06808662],\n",
              "       [0.06313138],\n",
              "       [0.06565007],\n",
              "       [0.0675117 ],\n",
              "       [0.06671777],\n",
              "       [0.06050319],\n",
              "       [0.05124976],\n",
              "       [0.05368631],\n",
              "       [0.05267336],\n",
              "       [0.05486353],\n",
              "       [0.05595861],\n",
              "       [0.05740959],\n",
              "       [0.05595861],\n",
              "       [0.05245435],\n",
              "       [0.05962713],\n",
              "       [0.05820352],\n",
              "       [0.05872368],\n",
              "       [0.05439812],\n",
              "       [0.05891532],\n",
              "       [0.05667041],\n",
              "       [0.05855942],\n",
              "       [0.06414433],\n",
              "       [0.06411695],\n",
              "       [0.06888055],\n",
              "       [0.07868152],\n",
              "       [0.06827826],\n",
              "       [0.06627974],\n",
              "       [0.07920169],\n",
              "       [0.08265119],\n",
              "       [0.07983136],\n",
              "       [0.0844307 ],\n",
              "       [0.0882361 ],\n",
              "       [0.08667561],\n",
              "       [0.08371889],\n",
              "       [0.08410217],\n",
              "       [0.0827607 ],\n",
              "       [0.07235743],\n",
              "       [0.07055055],\n",
              "       [0.06948285],\n",
              "       [0.06022942],\n",
              "       [0.0652531 ],\n",
              "       [0.06392532],\n",
              "       [0.07378104],\n",
              "       [0.07786021],\n",
              "       [0.07928382],\n",
              "       [0.07504038],\n",
              "       [0.07813398],\n",
              "       [0.07580694],\n",
              "       [0.07520464],\n",
              "       [0.07654612],\n",
              "       [0.07391792],\n",
              "       [0.07101596],\n",
              "       [0.06805924],\n",
              "       [0.07854464],\n",
              "       [0.07649136],\n",
              "       [0.07635448],\n",
              "       [0.06920908],\n",
              "       [0.07071481],\n",
              "       [0.06252909],\n",
              "       [0.0606127 ],\n",
              "       [0.05516467],\n",
              "       [0.05749172],\n",
              "       [0.05103074],\n",
              "       [0.04295453],\n",
              "       [0.04651354],\n",
              "       [0.04623977],\n",
              "       [0.0500178 ],\n",
              "       [0.04842993],\n",
              "       [0.04511731],\n",
              "       [0.0503737 ],\n",
              "       [0.04648616],\n",
              "       [0.0408465 ],\n",
              "       [0.04109289],\n",
              "       [0.03386536],\n",
              "       [0.02836258],\n",
              "       [0.01672735],\n",
              "       [0.01812358],\n",
              "       [0.02242177],\n",
              "       [0.02633668],\n",
              "       [0.01930079],\n",
              "       [0.02513209],\n",
              "       [0.01858899],\n",
              "       [0.01730227],\n",
              "       [0.01765817],\n",
              "       [0.0163167 ],\n",
              "       [0.03033373],\n",
              "       [0.02491308],\n",
              "       [0.02641881],\n",
              "       [0.00843212],\n",
              "       [0.01026638],\n",
              "       [0.01916391],\n",
              "       [0.0166726 ],\n",
              "       [0.01133408],\n",
              "       [0.01645358],\n",
              "       [0.01713801],\n",
              "       [0.01007474],\n",
              "       [0.01278506],\n",
              "       [0.01273031],\n",
              "       [0.01075916],\n",
              "       [0.00919867],\n",
              "       [0.00999261],\n",
              "       [0.01724752],\n",
              "       [0.02129931],\n",
              "       [0.01620719],\n",
              "       [0.0156049 ],\n",
              "       [0.01790456],\n",
              "       [0.011909  ],\n",
              "       [0.01576916],\n",
              "       [0.01757604],\n",
              "       [0.01798669],\n",
              "       [0.0173844 ],\n",
              "       [0.02789717],\n",
              "       [0.02849947],\n",
              "       [0.03055274],\n",
              "       [0.03468667],\n",
              "       [0.03156569],\n",
              "       [0.02926602],\n",
              "       [0.02951242],\n",
              "       [0.0296493 ],\n",
              "       [0.03263339],\n",
              "       [0.0333452 ],\n",
              "       [0.03898486],\n",
              "       [0.04279026],\n",
              "       [0.04232486],\n",
              "       [0.04265338],\n",
              "       [0.042626  ],\n",
              "       [0.04484354],\n",
              "       [0.0432283 ],\n",
              "       [0.04196895],\n",
              "       [0.04065486],\n",
              "       [0.04747173],\n",
              "       [0.05261861],\n",
              "       [0.05105812],\n",
              "       [0.05379582],\n",
              "       [0.05688942],\n",
              "       [0.05330304],\n",
              "       [0.05645139],\n",
              "       [0.04982616],\n",
              "       [0.05015468],\n",
              "       [0.05114025],\n",
              "       [0.05502779],\n",
              "       [0.05940811],\n",
              "       [0.05957237],\n",
              "       [0.05341254],\n",
              "       [0.04692419],\n",
              "       [0.0453637 ],\n",
              "       [0.045966  ],\n",
              "       [0.04279026],\n",
              "       [0.04199633],\n",
              "       [0.04035371],\n",
              "       [0.03835519],\n",
              "       [0.020478  ],\n",
              "       [0.01229228],\n",
              "       [0.00930818],\n",
              "       [0.00903441],\n",
              "       [0.01325047],\n",
              "       [0.01054015],\n",
              "       [0.00793933],\n",
              "       [0.00651573],\n",
              "       [0.00670737],\n",
              "       [0.00843212],\n",
              "       [0.00594081],\n",
              "       [0.        ],\n",
              "       [0.00049279],\n",
              "       [0.00969146],\n",
              "       [0.00862376],\n",
              "       [0.0115531 ],\n",
              "       [0.01056753],\n",
              "       [0.01335998],\n",
              "       [0.0166726 ],\n",
              "       [0.02069702],\n",
              "       [0.02540586],\n",
              "       [0.02756865],\n",
              "       [0.02740439],\n",
              "       [0.02606291],\n",
              "       [0.02223013],\n",
              "       [0.02020423],\n",
              "       [0.02075177],\n",
              "       [0.02269554],\n",
              "       [0.02379062],\n",
              "       [0.02354423],\n",
              "       [0.025488  ],\n",
              "       [0.02324308],\n",
              "       [0.01916391],\n",
              "       [0.01949243],\n",
              "       [0.01861637],\n",
              "       [0.01973882],\n",
              "       [0.01366113],\n",
              "       [0.01303146],\n",
              "       [0.01524899],\n",
              "       [0.01426342],\n",
              "       [0.01576916],\n",
              "       [0.00837736],\n",
              "       [0.00465409],\n",
              "       [0.00889753],\n",
              "       [0.01111507],\n",
              "       [0.01440031],\n",
              "       [0.01519424],\n",
              "       [0.01273031],\n",
              "       [0.01420867],\n",
              "       [0.01533112],\n",
              "       [0.01735702],\n",
              "       [0.01817833],\n",
              "       [0.01938292],\n",
              "       [0.01787719],\n",
              "       [0.02313357],\n",
              "       [0.0231062 ],\n",
              "       [0.02598078],\n",
              "       [0.02609029],\n",
              "       [0.02633668],\n",
              "       [0.0248857 ],\n",
              "       [0.02277767],\n",
              "       [0.01916391],\n",
              "       [0.01732965],\n",
              "       [0.03452241],\n",
              "       [0.03832781],\n",
              "       [0.03797191],\n",
              "       [0.04300928],\n",
              "       [0.03871109],\n",
              "       [0.04229748],\n",
              "       [0.04251649],\n",
              "       [0.04692419],\n",
              "       [0.04936075],\n",
              "       [0.05056534],\n",
              "       [0.0483478 ],\n",
              "       [0.04815616],\n",
              "       [0.04884058],\n",
              "       [0.05239959],\n",
              "       [0.05212582],\n",
              "       [0.05168779],\n",
              "       [0.05130451],\n",
              "       [0.05207107],\n",
              "       [0.04974402],\n",
              "       [0.05067484],\n",
              "       [0.04842993],\n",
              "       [0.04717059],\n",
              "       [0.04544583],\n",
              "       [0.04511731],\n",
              "       [0.0428724 ],\n",
              "       [0.04314617],\n",
              "       [0.04487092],\n",
              "       [0.04760862],\n",
              "       [0.04752649],\n",
              "       [0.04933337],\n",
              "       [0.0415583 ],\n",
              "       [0.03501519],\n",
              "       [0.04133928],\n",
              "       [0.04821091],\n",
              "       [0.05866893],\n",
              "       [0.06907219],\n",
              "       [0.06729269],\n",
              "       [0.06362417],\n",
              "       [0.06359679],\n",
              "       [0.06354204],\n",
              "       [0.06647138],\n",
              "       [0.06124237],\n",
              "       [0.06170778],\n",
              "       [0.06228269],\n",
              "       [0.06463712],\n",
              "       [0.05979139],\n",
              "       [0.06217319],\n",
              "       [0.06072221],\n",
              "       [0.0620363 ],\n",
              "       [0.06217319],\n",
              "       [0.06447286],\n",
              "       [0.06493826],\n",
              "       [0.07038629],\n",
              "       [0.07107071],\n",
              "       [0.07391792],\n",
              "       [0.07293235],\n",
              "       [0.07471186],\n",
              "       [0.07449284],\n",
              "       [0.07427382],\n",
              "       [0.07331563],\n",
              "       [0.07315137],\n",
              "       [0.07189203],\n",
              "       [0.07476661],\n",
              "       [0.07640923],\n",
              "       [0.06912695],\n",
              "       [0.0660881 ],\n",
              "       [0.06400745],\n",
              "       [0.06351466],\n",
              "       [0.05790237],\n",
              "       [0.05817614],\n",
              "       [0.05335779],\n",
              "       [0.05064747],\n",
              "       [0.05494566],\n",
              "       [0.05672516],\n",
              "       [0.05623238],\n",
              "       [0.04777288],\n",
              "       [0.04952501],\n",
              "       [0.04207846],\n",
              "       [0.04591124],\n",
              "       [0.05379582],\n",
              "       [0.05368631],\n",
              "       [0.05398746],\n",
              "       [0.05855942],\n",
              "       [0.05875106],\n",
              "       [0.05719057],\n",
              "       [0.05872368],\n",
              "       [0.05812139],\n",
              "       [0.05782024],\n",
              "       [0.0552468 ],\n",
              "       [0.05242697],\n",
              "       [0.05354943],\n",
              "       [0.05138665],\n",
              "       [0.05368631],\n",
              "       [0.05664303],\n",
              "       [0.05962713],\n",
              "       [0.06463712],\n",
              "       [0.06285761],\n",
              "       [0.06803187],\n",
              "       [0.06803187],\n",
              "       [0.06975662],\n",
              "       [0.07016727],\n",
              "       [0.07200153],\n",
              "       [0.07285022],\n",
              "       [0.07315137],\n",
              "       [0.07104334],\n",
              "       [0.07167301],\n",
              "       [0.07369891],\n",
              "       [0.07233006],\n",
              "       [0.07224793],\n",
              "       [0.06975662],\n",
              "       [0.07066006],\n",
              "       [0.07030416],\n",
              "       [0.0719194 ],\n",
              "       [0.07547841],\n",
              "       [0.07843513],\n",
              "       [0.07876365],\n",
              "       [0.08051578],\n",
              "       [0.07914693],\n",
              "       [0.07857202],\n",
              "       [0.08120021],\n",
              "       [0.08117283],\n",
              "       [0.08059791],\n",
              "       [0.08120021],\n",
              "       [0.08141922],\n",
              "       [0.08111808],\n",
              "       [0.08634709],\n",
              "       [0.08651135],\n",
              "       [0.08653872],\n",
              "       [0.08566266],\n",
              "       [0.0848961 ],\n",
              "       [0.10515509],\n",
              "       [0.1045528 ],\n",
              "       [0.10605853],\n",
              "       [0.10937115],\n",
              "       [0.1127659 ],\n",
              "       [0.11416213],\n",
              "       [0.11520245],\n",
              "       [0.11438114],\n",
              "       [0.11758425],\n",
              "       [0.12232048],\n",
              "       [0.12366195],\n",
              "       [0.12321023],\n",
              "       [0.12423687],\n",
              "       [0.12691981],\n",
              "       [0.12804227],\n",
              "       [0.1264544 ],\n",
              "       [0.1268103 ],\n",
              "       [0.12754948],\n",
              "       [0.12771375],\n",
              "       [0.13537931],\n",
              "       [0.13310702],\n",
              "       [0.13535193],\n",
              "       [0.13414734],\n",
              "       [0.13464013],\n",
              "       [0.13321652],\n",
              "       [0.13234046],\n",
              "       [0.1335998 ],\n",
              "       [0.13376406],\n",
              "       [0.13318915],\n",
              "       [0.13721357],\n",
              "       [0.13784324],\n",
              "       [0.13592685],\n",
              "       [0.13995127],\n",
              "       [0.13551619],\n",
              "       [0.13984176],\n",
              "       [0.13847291],\n",
              "       [0.13770635],\n",
              "       [0.1383634 ],\n",
              "       [0.14635749],\n",
              "       [0.14723355],\n",
              "       [0.14671339],\n",
              "       [0.14597421],\n",
              "       [0.14608372],\n",
              "       [0.14901306],\n",
              "       [0.14695978],\n",
              "       [0.14597421],\n",
              "       [0.14509815],\n",
              "       [0.14463274],\n",
              "       [0.14041668],\n",
              "       [0.14088209],\n",
              "       [0.13882881],\n",
              "       [0.14096422],\n",
              "       [0.13923947],\n",
              "       [0.13781586],\n",
              "       [0.14263422],\n",
              "       [0.14216881],\n",
              "       [0.14591946],\n",
              "       [0.14835601],\n",
              "       [0.14602896],\n",
              "       [0.14633011],\n",
              "       [0.14594683],\n",
              "       [0.1539683 ],\n",
              "       [0.15651436],\n",
              "       [0.15528239],\n",
              "       [0.15383141],\n",
              "       [0.16048403],\n",
              "       [0.17157171],\n",
              "       [0.17425466],\n",
              "       [0.17225614],\n",
              "       [0.17414515],\n",
              "       [0.18003121],\n",
              "       [0.17893613],\n",
              "       [0.17830646],\n",
              "       [0.16401566],\n",
              "       [0.17028499],\n",
              "       [0.1717086 ],\n",
              "       [0.17425466],\n",
              "       [0.1737345 ],\n",
              "       [0.17247516],\n",
              "       [0.17392614],\n",
              "       [0.17321433],\n",
              "       [0.1733786 ],\n",
              "       [0.17088729],\n",
              "       [0.17203712],\n",
              "       [0.1782517 ],\n",
              "       [0.1740904 ],\n",
              "       [0.175514  ],\n",
              "       [0.17803269],\n",
              "       [0.17699236],\n",
              "       [0.16053878],\n",
              "       [0.15079256],\n",
              "       [0.15399567],\n",
              "       [0.15008076],\n",
              "       [0.14769896],\n",
              "       [0.14216881],\n",
              "       [0.15331125],\n",
              "       [0.14967011],\n",
              "       [0.15202453],\n",
              "       [0.15136748],\n",
              "       [0.15314699],\n",
              "       [0.15188764],\n",
              "       [0.14616585],\n",
              "       [0.15191502],\n",
              "       [0.14602896],\n",
              "       [0.14695978],\n",
              "       [0.14553618],\n",
              "       [0.14715142],\n",
              "       [0.14342815],\n",
              "       [0.14739782],\n",
              "       [0.14980699],\n",
              "       [0.15109371],\n",
              "       [0.15166863],\n",
              "       [0.15722616],\n",
              "       [0.16070304],\n",
              "       [0.16212665],\n",
              "       [0.16355025],\n",
              "       [0.16612369],\n",
              "       [0.16426205],\n",
              "       [0.16407041],\n",
              "       [0.16905303],\n",
              "       [0.17083253],\n",
              "       [0.17280368],\n",
              "       [0.16486435],\n",
              "       [0.16196238],\n",
              "       [0.15985435],\n",
              "       [0.16346812],\n",
              "       [0.18287842],\n",
              "       [0.17858023],\n",
              "       [0.18082514],\n",
              "       [0.18745038],\n",
              "       [0.19092726],\n",
              "       [0.1936102 ],\n",
              "       [0.1778958 ],\n",
              "       [0.18380924],\n",
              "       [0.19029759],\n",
              "       [0.19508856],\n",
              "       [0.19330906],\n",
              "       [0.18484956],\n",
              "       [0.18386399],\n",
              "       [0.18307006],\n",
              "       [0.19010595],\n",
              "       [0.19065349],\n",
              "       [0.18870972],\n",
              "       [0.19032497],\n",
              "       [0.19473266],\n",
              "       [0.19867495],\n",
              "       [0.19987954],\n",
              "       [0.20165905],\n",
              "       [0.20179593],\n",
              "       [0.19640266],\n",
              "       [0.19593725],\n",
              "       [0.19415775],\n",
              "       [0.18695759],\n",
              "       [0.19481479],\n",
              "       [0.19306267],\n",
              "       [0.18975005],\n",
              "       [0.1859994 ],\n",
              "       [0.19037972],\n",
              "       [0.1870671 ],\n",
              "       [0.18723136],\n",
              "       [0.17994908],\n",
              "       [0.17261204],\n",
              "       [0.16850549],\n",
              "       [0.16483697],\n",
              "       [0.17192762],\n",
              "       [0.17491171],\n",
              "       [0.17231089],\n",
              "       [0.17461056],\n",
              "       [0.17376187],\n",
              "       [0.17559613],\n",
              "       [0.17285843],\n",
              "       [0.17808744],\n",
              "       [0.17784105],\n",
              "       [0.17931941],\n",
              "       [0.17948367],\n",
              "       [0.18126318],\n",
              "       [0.17975744],\n",
              "       [0.18246776],\n",
              "       [0.19037972],\n",
              "       [0.19199496],\n",
              "       [0.1900512 ],\n",
              "       [0.17970269],\n",
              "       [0.18044186],\n",
              "       [0.18022285],\n",
              "       [0.18276891],\n",
              "       [0.1808799 ],\n",
              "       [0.1836176 ],\n",
              "       [0.19905823],\n",
              "       [0.20910559],\n",
              "       [0.21545706],\n",
              "       [0.209571  ],\n",
              "       [0.212911  ],\n",
              "       [0.2249295 ],\n",
              "       [0.22972048],\n",
              "       [0.23125359],\n",
              "       [0.23516851],\n",
              "       [0.23418293],\n",
              "       [0.23087032],\n",
              "       [0.22895392],\n",
              "       [0.22175377],\n",
              "       [0.21556657],\n",
              "       [0.22109672],\n",
              "       [0.21849591],\n",
              "       [0.2180305 ],\n",
              "       [0.22668163],\n",
              "       [0.23166425],\n",
              "       [0.23169163],\n",
              "       [0.22928245],\n",
              "       [0.22648999],\n",
              "       [0.21666165],\n",
              "       [0.22315   ],\n",
              "       [0.22095984],\n",
              "       [0.21753771],\n",
              "       [0.21709968],\n",
              "       [0.21537493],\n",
              "       [0.21622362],\n",
              "       [0.2163605 ],\n",
              "       [0.22539491],\n",
              "       [0.22273934],\n",
              "       [0.22429983],\n",
              "       [0.22416295],\n",
              "       [0.22895392],\n",
              "       [0.23566129],\n",
              "       [0.23051441],\n",
              "       [0.22999425],\n",
              "       [0.23180113],\n",
              "       [0.23180113],\n",
              "       [0.21964574],\n",
              "       [0.21972787],\n",
              "       [0.22104197],\n",
              "       [0.21597722],\n",
              "       [0.22427246],\n",
              "       [0.22419032],\n",
              "       [0.22638049],\n",
              "       [0.23177376],\n",
              "       [0.22999425],\n",
              "       [0.2299395 ],\n",
              "       [0.22982999],\n",
              "       [0.23254031],\n",
              "       [0.23749555],\n",
              "       [0.23503162],\n",
              "       [0.24299833],\n",
              "       [0.24343636],\n",
              "       [0.2412462 ],\n",
              "       [0.23724916],\n",
              "       [0.23735867],\n",
              "       [0.22963835],\n",
              "       [0.2211241 ],\n",
              "       [0.22221918],\n",
              "       [0.21250034],\n",
              "       [0.20979002],\n",
              "       [0.21104936],\n",
              "       [0.21200756],\n",
              "       [0.19207709],\n",
              "       [0.18109891],\n",
              "       [0.19900348],\n",
              "       [0.1894489 ],\n",
              "       [0.17743039],\n",
              "       [0.1808799 ],\n",
              "       [0.19812741],\n",
              "       [0.20258987],\n",
              "       [0.2108851 ],\n",
              "       [0.22627098],\n",
              "       [0.22473787],\n",
              "       [0.22315   ],\n",
              "       [0.22101459],\n",
              "       [0.2249295 ],\n",
              "       [0.23314261],\n",
              "       [0.24264243],\n",
              "       [0.24105456],\n",
              "       [0.24031538],\n",
              "       [0.23177376],\n",
              "       [0.23508637],\n",
              "       [0.23675637],\n",
              "       [0.23634572],\n",
              "       [0.23185589],\n",
              "       [0.2370849 ],\n",
              "       [0.24540751],\n",
              "       [0.25017111],\n",
              "       [0.24538013],\n",
              "       [0.24119145],\n",
              "       [0.24176636],\n",
              "       [0.24004161],\n",
              "       [0.23259507],\n",
              "       [0.2324308 ],\n",
              "       [0.22156213],\n",
              "       [0.2149369 ],\n",
              "       [0.20423249],\n",
              "       [0.22566868],\n",
              "       [0.21354067],\n",
              "       [0.20844854],\n",
              "       [0.21200756],\n",
              "       [0.20899609],\n",
              "       [0.21367755],\n",
              "       [0.22249295],\n",
              "       [0.22575081],\n",
              "       [0.21365018],\n",
              "       [0.21822214],\n",
              "       [0.22698278],\n",
              "       [0.22476524],\n",
              "       [0.22941933],\n",
              "       [0.23103458],\n",
              "       [0.23401867],\n",
              "       [0.24064391],\n",
              "       [0.23954883],\n",
              "       [0.22575081],\n",
              "       [0.20636789],\n",
              "       [0.2050538 ],\n",
              "       [0.19875708],\n",
              "       [0.20070085],\n",
              "       [0.20226134],\n",
              "       [0.19705971],\n",
              "       [0.20510855],\n",
              "       [0.21562132],\n",
              "       [0.23607195],\n",
              "       [0.23694801],\n",
              "       [0.25594766],\n",
              "       [0.2595888 ],\n",
              "       [0.26202535],\n",
              "       [0.26561174],\n",
              "       [0.27294878],\n",
              "       [0.26897911],\n",
              "       [0.26777452],\n",
              "       [0.26309305],\n",
              "       [0.26785665],\n",
              "       [0.26459879],\n",
              "       [0.26273715],\n",
              "       [0.26635092],\n",
              "       [0.2650642 ],\n",
              "       [0.26834944],\n",
              "       [0.26777452],\n",
              "       [0.26895173],\n",
              "       [0.2670901 ],\n",
              "       [0.26599502],\n",
              "       [0.26427027],\n",
              "       [0.27349632],\n",
              "       [0.27784926],\n",
              "       [0.28190106],\n",
              "       [0.28373532],\n",
              "       [0.28231171],\n",
              "       [0.27749336],\n",
              "       [0.27620664],\n",
              "       [0.27908123],\n",
              "       [0.27475566],\n",
              "       [0.27502943],\n",
              "       [0.26966354],\n",
              "       [0.26938977],\n",
              "       [0.26103978],\n",
              "       [0.26325732],\n",
              "       [0.26041011],\n",
              "       [0.25893175],\n",
              "       [0.25140307],\n",
              "       [0.25759028],\n",
              "       [0.2568511 ],\n",
              "       [0.26051962],\n",
              "       [0.25945191],\n",
              "       [0.26511895],\n",
              "       [0.25619405],\n",
              "       [0.26024585],\n",
              "       [0.26728174],\n",
              "       [0.27442714],\n",
              "       [0.27379746],\n",
              "       [0.26703534],\n",
              "       [0.2756591 ],\n",
              "       [0.27648041],\n",
              "       [0.27533058],\n",
              "       [0.27680894],\n",
              "       [0.27393435],\n",
              "       [0.27798615],\n",
              "       [0.27678156],\n",
              "       [0.27724697],\n",
              "       [0.28105237],\n",
              "       [0.28603499],\n",
              "       [0.28436499],\n",
              "       [0.27552222],\n",
              "       [0.27259288],\n",
              "       [0.2736332 ],\n",
              "       [0.30432283],\n",
              "       [0.32044789],\n",
              "       [0.32209051],\n",
              "       [0.32504723],\n",
              "       [0.31968133],\n",
              "       [0.32006461],\n",
              "       [0.32452706],\n",
              "       [0.32083117],\n",
              "       [0.32449969],\n",
              "       [0.32690886],\n",
              "       [0.32825034],\n",
              "       [0.33668245],\n",
              "       [0.34834506],\n",
              "       [0.34254113],\n",
              "       [0.3413913 ],\n",
              "       [0.34141868],\n",
              "       [0.34262326],\n",
              "       [0.34445752],\n",
              "       [0.34933063],\n",
              "       [0.35414899],\n",
              "       [0.36312864],\n",
              "       [0.36874093],\n",
              "       [0.37585895],\n",
              "       [0.37785748],\n",
              "       [0.3737783 ],\n",
              "       [0.36345717],\n",
              "       [0.35852931],\n",
              "       [0.35039834],\n",
              "       [0.36551044],\n",
              "       [0.35789964],\n",
              "       [0.37251896],\n",
              "       [0.36548307],\n",
              "       [0.34916637],\n",
              "       [0.35015194],\n",
              "       [0.35050784],\n",
              "       [0.35505243],\n",
              "       [0.34856408],\n",
              "       [0.35713308],\n",
              "       [0.36096586],\n",
              "       [0.35612013],\n",
              "       [0.36852192],\n",
              "       [0.3706847 ],\n",
              "       [0.374846  ],\n",
              "       [0.38037616],\n",
              "       [0.38801435],\n",
              "       [0.37684453],\n",
              "       [0.36671503],\n",
              "       [0.36529143],\n",
              "       [0.3737783 ],\n",
              "       [0.34500506],\n",
              "       [0.33977606],\n",
              "       [0.36074684],\n",
              "       [0.34774277],\n",
              "       [0.36085635],\n",
              "       [0.35822816],\n",
              "       [0.34407425],\n",
              "       [0.35308128],\n",
              "       [0.3567498 ],\n",
              "       [0.36244422],\n",
              "       [0.34152818],\n",
              "       [0.35442276],\n",
              "       [0.3448408 ],\n",
              "       [0.33372574],\n",
              "       [0.3366277 ],\n",
              "       [0.35184932],\n",
              "       [0.36104799],\n",
              "       [0.32069428],\n",
              "       [0.30456922],\n",
              "       [0.31053741],\n",
              "       [0.3274564 ],\n",
              "       [0.32345936],\n",
              "       [0.3124538 ]])"
            ]
          },
          "metadata": {
            "tags": []
          },
          "execution_count": 52
        }
      ]
    },
    {
      "cell_type": "code",
      "metadata": {
        "id": "CCMuLBcBQ3zo",
        "colab_type": "code",
        "colab": {}
      },
      "source": [
        "import numpy\n",
        "# convert an array of values into a dataset matrix\n",
        "def create_dataset(dataset, time_step=1):\n",
        "\tdataX, dataY = [], []\n",
        "\tfor i in range(len(dataset)-time_step-1):\n",
        "\t\ta = dataset[i:(i+time_step), 0]   ###i=0, 0,1,2,3-----99   100 \n",
        "\t\tdataX.append(a)\n",
        "\t\tdataY.append(dataset[i + time_step, 0])\n",
        "\treturn numpy.array(dataX), numpy.array(dataY)"
      ],
      "execution_count": 53,
      "outputs": []
    },
    {
      "cell_type": "code",
      "metadata": {
        "id": "RrS6chhiQ3zq",
        "colab_type": "code",
        "colab": {}
      },
      "source": [
        "# reshape into X=t,t+1,t+2,t+3 and Y=t+4\n",
        "time_step = 100\n",
        "X_train, y_train = create_dataset(train_data, time_step)\n",
        "X_test, ytest = create_dataset(test_data, time_step)"
      ],
      "execution_count": 54,
      "outputs": []
    },
    {
      "cell_type": "code",
      "metadata": {
        "id": "divbFAwPQ3zs",
        "colab_type": "code",
        "colab": {
          "base_uri": "https://localhost:8080/",
          "height": 67
        },
        "outputId": "490d5dfb-34fe-4f44-9b69-70732130c234"
      },
      "source": [
        "print(X_train.shape), print(y_train.shape)"
      ],
      "execution_count": 55,
      "outputs": [
        {
          "output_type": "stream",
          "text": [
            "(716, 100)\n",
            "(716,)\n"
          ],
          "name": "stdout"
        },
        {
          "output_type": "execute_result",
          "data": {
            "text/plain": [
              "(None, None)"
            ]
          },
          "metadata": {
            "tags": []
          },
          "execution_count": 55
        }
      ]
    },
    {
      "cell_type": "code",
      "metadata": {
        "id": "M1R-lyVLQ3zu",
        "colab_type": "code",
        "colab": {
          "base_uri": "https://localhost:8080/",
          "height": 67
        },
        "outputId": "11e93478-b1fb-4e73-9b79-7088cc1a6918"
      },
      "source": [
        "print(X_test.shape), print(ytest.shape)"
      ],
      "execution_count": 56,
      "outputs": [
        {
          "output_type": "stream",
          "text": [
            "(339, 100)\n",
            "(339,)\n"
          ],
          "name": "stdout"
        },
        {
          "output_type": "execute_result",
          "data": {
            "text/plain": [
              "(None, None)"
            ]
          },
          "metadata": {
            "tags": []
          },
          "execution_count": 56
        }
      ]
    },
    {
      "cell_type": "code",
      "metadata": {
        "id": "LYOC1o3sQ3zw",
        "colab_type": "code",
        "colab": {}
      },
      "source": [
        "# reshape input to be [samples, time steps, features] which is required for LSTM\n",
        "X_train =X_train.reshape(X_train.shape[0],X_train.shape[1] , 1)\n",
        "X_test = X_test.reshape(X_test.shape[0],X_test.shape[1] , 1)"
      ],
      "execution_count": 57,
      "outputs": []
    },
    {
      "cell_type": "code",
      "metadata": {
        "id": "EaOcesgzQ3zz",
        "colab_type": "code",
        "colab": {}
      },
      "source": [
        "### Create the Stacked LSTM model\n",
        "from tensorflow.keras.models import Sequential\n",
        "from tensorflow.keras.layers import Dense\n",
        "from tensorflow.keras.layers import LSTM"
      ],
      "execution_count": 58,
      "outputs": []
    },
    {
      "cell_type": "code",
      "metadata": {
        "id": "plWAP8X3Q3z1",
        "colab_type": "code",
        "colab": {}
      },
      "source": [
        "model=Sequential()\n",
        "model.add(LSTM(50,return_sequences=True,input_shape=(100,1)))\n",
        "model.add(LSTM(50,return_sequences=True))\n",
        "model.add(LSTM(50))\n",
        "model.add(Dense(1))\n",
        "model.compile(loss='mean_squared_error',optimizer='adam')\n"
      ],
      "execution_count": 59,
      "outputs": []
    },
    {
      "cell_type": "code",
      "metadata": {
        "id": "FF1bjiyjQ3z4",
        "colab_type": "code",
        "colab": {
          "base_uri": "https://localhost:8080/",
          "height": 286
        },
        "outputId": "9e6811a9-20a2-4c98-acd7-8d893da0e035"
      },
      "source": [
        "model.summary()"
      ],
      "execution_count": 60,
      "outputs": [
        {
          "output_type": "stream",
          "text": [
            "Model: \"sequential_1\"\n",
            "_________________________________________________________________\n",
            "Layer (type)                 Output Shape              Param #   \n",
            "=================================================================\n",
            "lstm_3 (LSTM)                (None, 100, 50)           10400     \n",
            "_________________________________________________________________\n",
            "lstm_4 (LSTM)                (None, 100, 50)           20200     \n",
            "_________________________________________________________________\n",
            "lstm_5 (LSTM)                (None, 50)                20200     \n",
            "_________________________________________________________________\n",
            "dense_1 (Dense)              (None, 1)                 51        \n",
            "=================================================================\n",
            "Total params: 50,851\n",
            "Trainable params: 50,851\n",
            "Non-trainable params: 0\n",
            "_________________________________________________________________\n"
          ],
          "name": "stdout"
        }
      ]
    },
    {
      "cell_type": "code",
      "metadata": {
        "id": "zRb0b_RWQ3z7",
        "colab_type": "code",
        "colab": {
          "base_uri": "https://localhost:8080/",
          "height": 286
        },
        "outputId": "4b4be058-786c-4c6f-e46d-890ca7fb79d0"
      },
      "source": [
        "model.summary()"
      ],
      "execution_count": 61,
      "outputs": [
        {
          "output_type": "stream",
          "text": [
            "Model: \"sequential_1\"\n",
            "_________________________________________________________________\n",
            "Layer (type)                 Output Shape              Param #   \n",
            "=================================================================\n",
            "lstm_3 (LSTM)                (None, 100, 50)           10400     \n",
            "_________________________________________________________________\n",
            "lstm_4 (LSTM)                (None, 100, 50)           20200     \n",
            "_________________________________________________________________\n",
            "lstm_5 (LSTM)                (None, 50)                20200     \n",
            "_________________________________________________________________\n",
            "dense_1 (Dense)              (None, 1)                 51        \n",
            "=================================================================\n",
            "Total params: 50,851\n",
            "Trainable params: 50,851\n",
            "Non-trainable params: 0\n",
            "_________________________________________________________________\n"
          ],
          "name": "stdout"
        }
      ]
    },
    {
      "cell_type": "code",
      "metadata": {
        "id": "KgjuWXrlQ3z8",
        "colab_type": "code",
        "colab": {}
      },
      "source": [
        ""
      ],
      "execution_count": 61,
      "outputs": []
    },
    {
      "cell_type": "code",
      "metadata": {
        "id": "-h6tnbyqQ3z-",
        "colab_type": "code",
        "colab": {
          "base_uri": "https://localhost:8080/",
          "height": 1000
        },
        "outputId": "ceaf5913-94d5-49dd-a8b4-6ee71d5fb016"
      },
      "source": [
        "model.fit(X_train,y_train,validation_data=(X_test,ytest),epochs=100,batch_size=64,verbose=1)"
      ],
      "execution_count": 62,
      "outputs": [
        {
          "output_type": "stream",
          "text": [
            "Epoch 1/100\n",
            "12/12 [==============================] - 3s 257ms/step - loss: 0.0150 - val_loss: 0.0386\n",
            "Epoch 2/100\n",
            "12/12 [==============================] - 2s 199ms/step - loss: 0.0029 - val_loss: 0.0032\n",
            "Epoch 3/100\n",
            "12/12 [==============================] - 2s 183ms/step - loss: 8.5275e-04 - val_loss: 0.0027\n",
            "Epoch 4/100\n",
            "12/12 [==============================] - 2s 189ms/step - loss: 4.0790e-04 - val_loss: 0.0058\n",
            "Epoch 5/100\n",
            "12/12 [==============================] - 2s 186ms/step - loss: 2.9751e-04 - val_loss: 0.0042\n",
            "Epoch 6/100\n",
            "12/12 [==============================] - 2s 185ms/step - loss: 2.7631e-04 - val_loss: 0.0038\n",
            "Epoch 7/100\n",
            "12/12 [==============================] - 2s 192ms/step - loss: 2.7160e-04 - val_loss: 0.0043\n",
            "Epoch 8/100\n",
            "12/12 [==============================] - 2s 200ms/step - loss: 2.7015e-04 - val_loss: 0.0041\n",
            "Epoch 9/100\n",
            "12/12 [==============================] - 2s 195ms/step - loss: 2.7023e-04 - val_loss: 0.0044\n",
            "Epoch 10/100\n",
            "12/12 [==============================] - 2s 188ms/step - loss: 2.8069e-04 - val_loss: 0.0036\n",
            "Epoch 11/100\n",
            "12/12 [==============================] - 2s 186ms/step - loss: 2.6523e-04 - val_loss: 0.0033\n",
            "Epoch 12/100\n",
            "12/12 [==============================] - 2s 188ms/step - loss: 2.6687e-04 - val_loss: 0.0038\n",
            "Epoch 13/100\n",
            "12/12 [==============================] - 2s 190ms/step - loss: 2.5969e-04 - val_loss: 0.0039\n",
            "Epoch 14/100\n",
            "12/12 [==============================] - 2s 201ms/step - loss: 2.5715e-04 - val_loss: 0.0036\n",
            "Epoch 15/100\n",
            "12/12 [==============================] - 2s 196ms/step - loss: 2.6599e-04 - val_loss: 0.0047\n",
            "Epoch 16/100\n",
            "12/12 [==============================] - 2s 193ms/step - loss: 2.6490e-04 - val_loss: 0.0044\n",
            "Epoch 17/100\n",
            "12/12 [==============================] - 2s 187ms/step - loss: 2.5231e-04 - val_loss: 0.0034\n",
            "Epoch 18/100\n",
            "12/12 [==============================] - 3s 209ms/step - loss: 2.3336e-04 - val_loss: 0.0037\n",
            "Epoch 19/100\n",
            "12/12 [==============================] - 3s 253ms/step - loss: 2.3868e-04 - val_loss: 0.0044\n",
            "Epoch 20/100\n",
            "12/12 [==============================] - 3s 261ms/step - loss: 2.3591e-04 - val_loss: 0.0034\n",
            "Epoch 21/100\n",
            "12/12 [==============================] - 2s 190ms/step - loss: 2.2801e-04 - val_loss: 0.0049\n",
            "Epoch 22/100\n",
            "12/12 [==============================] - 2s 186ms/step - loss: 2.7520e-04 - val_loss: 0.0031\n",
            "Epoch 23/100\n",
            "12/12 [==============================] - 2s 190ms/step - loss: 2.2668e-04 - val_loss: 0.0030\n",
            "Epoch 24/100\n",
            "12/12 [==============================] - 2s 191ms/step - loss: 2.2487e-04 - val_loss: 0.0034\n",
            "Epoch 25/100\n",
            "12/12 [==============================] - 2s 199ms/step - loss: 2.3909e-04 - val_loss: 0.0033\n",
            "Epoch 26/100\n",
            "12/12 [==============================] - 2s 203ms/step - loss: 2.3030e-04 - val_loss: 0.0033\n",
            "Epoch 27/100\n",
            "12/12 [==============================] - 2s 196ms/step - loss: 2.1010e-04 - val_loss: 0.0021\n",
            "Epoch 28/100\n",
            "12/12 [==============================] - 2s 196ms/step - loss: 2.1096e-04 - val_loss: 0.0030\n",
            "Epoch 29/100\n",
            "12/12 [==============================] - 2s 194ms/step - loss: 2.0706e-04 - val_loss: 0.0031\n",
            "Epoch 30/100\n",
            "12/12 [==============================] - 2s 193ms/step - loss: 1.9840e-04 - val_loss: 0.0023\n",
            "Epoch 31/100\n",
            "12/12 [==============================] - 2s 204ms/step - loss: 2.0467e-04 - val_loss: 0.0030\n",
            "Epoch 32/100\n",
            "12/12 [==============================] - 2s 197ms/step - loss: 1.9793e-04 - val_loss: 0.0025\n",
            "Epoch 33/100\n",
            "12/12 [==============================] - 2s 192ms/step - loss: 1.9582e-04 - val_loss: 0.0032\n",
            "Epoch 34/100\n",
            "12/12 [==============================] - 2s 194ms/step - loss: 2.0289e-04 - val_loss: 0.0029\n",
            "Epoch 35/100\n",
            "12/12 [==============================] - 2s 190ms/step - loss: 1.9257e-04 - val_loss: 0.0021\n",
            "Epoch 36/100\n",
            "12/12 [==============================] - 2s 190ms/step - loss: 1.8936e-04 - val_loss: 0.0022\n",
            "Epoch 37/100\n",
            "12/12 [==============================] - 2s 197ms/step - loss: 1.8431e-04 - val_loss: 0.0022\n",
            "Epoch 38/100\n",
            "12/12 [==============================] - 2s 196ms/step - loss: 1.8172e-04 - val_loss: 0.0023\n",
            "Epoch 39/100\n",
            "12/12 [==============================] - 2s 190ms/step - loss: 1.8333e-04 - val_loss: 0.0030\n",
            "Epoch 40/100\n",
            "12/12 [==============================] - 2s 189ms/step - loss: 2.0495e-04 - val_loss: 0.0014\n",
            "Epoch 41/100\n",
            "12/12 [==============================] - 2s 191ms/step - loss: 2.2001e-04 - val_loss: 0.0029\n",
            "Epoch 42/100\n",
            "12/12 [==============================] - 2s 194ms/step - loss: 1.7862e-04 - val_loss: 0.0025\n",
            "Epoch 43/100\n",
            "12/12 [==============================] - 2s 197ms/step - loss: 1.7531e-04 - val_loss: 0.0017\n",
            "Epoch 44/100\n",
            "12/12 [==============================] - 2s 195ms/step - loss: 1.7759e-04 - val_loss: 0.0024\n",
            "Epoch 45/100\n",
            "12/12 [==============================] - 2s 190ms/step - loss: 1.9332e-04 - val_loss: 0.0016\n",
            "Epoch 46/100\n",
            "12/12 [==============================] - 2s 187ms/step - loss: 1.8022e-04 - val_loss: 0.0030\n",
            "Epoch 47/100\n",
            "12/12 [==============================] - 2s 184ms/step - loss: 1.8220e-04 - val_loss: 0.0023\n",
            "Epoch 48/100\n",
            "12/12 [==============================] - 2s 191ms/step - loss: 1.6900e-04 - val_loss: 0.0041\n",
            "Epoch 49/100\n",
            "12/12 [==============================] - 2s 199ms/step - loss: 2.3688e-04 - val_loss: 0.0019\n",
            "Epoch 50/100\n",
            "12/12 [==============================] - 2s 208ms/step - loss: 1.7435e-04 - val_loss: 0.0020\n",
            "Epoch 51/100\n",
            "12/12 [==============================] - 2s 191ms/step - loss: 1.6673e-04 - val_loss: 0.0024\n",
            "Epoch 52/100\n",
            "12/12 [==============================] - 2s 194ms/step - loss: 1.6382e-04 - val_loss: 0.0014\n",
            "Epoch 53/100\n",
            "12/12 [==============================] - 2s 189ms/step - loss: 1.7325e-04 - val_loss: 0.0028\n",
            "Epoch 54/100\n",
            "12/12 [==============================] - 2s 193ms/step - loss: 1.6285e-04 - val_loss: 0.0022\n",
            "Epoch 55/100\n",
            "12/12 [==============================] - 2s 201ms/step - loss: 1.5969e-04 - val_loss: 0.0025\n",
            "Epoch 56/100\n",
            "12/12 [==============================] - 3s 216ms/step - loss: 1.8060e-04 - val_loss: 0.0014\n",
            "Epoch 57/100\n",
            "12/12 [==============================] - 3s 234ms/step - loss: 1.7211e-04 - val_loss: 0.0026\n",
            "Epoch 58/100\n",
            "12/12 [==============================] - 3s 231ms/step - loss: 1.7085e-04 - val_loss: 0.0021\n",
            "Epoch 59/100\n",
            "12/12 [==============================] - 3s 231ms/step - loss: 1.7665e-04 - val_loss: 0.0024\n",
            "Epoch 60/100\n",
            "12/12 [==============================] - 3s 211ms/step - loss: 1.5886e-04 - val_loss: 0.0023\n",
            "Epoch 61/100\n",
            "12/12 [==============================] - 3s 241ms/step - loss: 1.4844e-04 - val_loss: 0.0023\n",
            "Epoch 62/100\n",
            "12/12 [==============================] - 3s 221ms/step - loss: 1.5209e-04 - val_loss: 0.0023\n",
            "Epoch 63/100\n",
            "12/12 [==============================] - 3s 232ms/step - loss: 1.4947e-04 - val_loss: 0.0015\n",
            "Epoch 64/100\n",
            "12/12 [==============================] - 2s 194ms/step - loss: 1.4743e-04 - val_loss: 0.0017\n",
            "Epoch 65/100\n",
            "12/12 [==============================] - 2s 193ms/step - loss: 1.4830e-04 - val_loss: 0.0030\n",
            "Epoch 66/100\n",
            "12/12 [==============================] - 2s 196ms/step - loss: 1.5659e-04 - val_loss: 0.0014\n",
            "Epoch 67/100\n",
            "12/12 [==============================] - 2s 190ms/step - loss: 1.4307e-04 - val_loss: 0.0019\n",
            "Epoch 68/100\n",
            "12/12 [==============================] - 2s 186ms/step - loss: 1.4741e-04 - val_loss: 0.0015\n",
            "Epoch 69/100\n",
            "12/12 [==============================] - 2s 190ms/step - loss: 1.4075e-04 - val_loss: 0.0014\n",
            "Epoch 70/100\n",
            "12/12 [==============================] - 2s 190ms/step - loss: 1.3816e-04 - val_loss: 0.0017\n",
            "Epoch 71/100\n",
            "12/12 [==============================] - 2s 198ms/step - loss: 1.3729e-04 - val_loss: 0.0018\n",
            "Epoch 72/100\n",
            "12/12 [==============================] - 2s 201ms/step - loss: 1.5753e-04 - val_loss: 0.0020\n",
            "Epoch 73/100\n",
            "12/12 [==============================] - 2s 190ms/step - loss: 1.4586e-04 - val_loss: 0.0012\n",
            "Epoch 74/100\n",
            "12/12 [==============================] - 2s 189ms/step - loss: 1.4165e-04 - val_loss: 0.0012\n",
            "Epoch 75/100\n",
            "12/12 [==============================] - 2s 188ms/step - loss: 1.4810e-04 - val_loss: 0.0025\n",
            "Epoch 76/100\n",
            "12/12 [==============================] - 2s 191ms/step - loss: 1.4045e-04 - val_loss: 0.0010\n",
            "Epoch 77/100\n",
            "12/12 [==============================] - 2s 197ms/step - loss: 1.4463e-04 - val_loss: 0.0020\n",
            "Epoch 78/100\n",
            "12/12 [==============================] - 2s 200ms/step - loss: 1.4370e-04 - val_loss: 0.0021\n",
            "Epoch 79/100\n",
            "12/12 [==============================] - 2s 191ms/step - loss: 1.3627e-04 - val_loss: 0.0014\n",
            "Epoch 80/100\n",
            "12/12 [==============================] - 2s 186ms/step - loss: 1.3902e-04 - val_loss: 0.0032\n",
            "Epoch 81/100\n",
            "12/12 [==============================] - 2s 194ms/step - loss: 1.5078e-04 - val_loss: 0.0010\n",
            "Epoch 82/100\n",
            "12/12 [==============================] - 2s 195ms/step - loss: 1.4535e-04 - val_loss: 0.0041\n",
            "Epoch 83/100\n",
            "12/12 [==============================] - 2s 192ms/step - loss: 1.5424e-04 - val_loss: 0.0016\n",
            "Epoch 84/100\n",
            "12/12 [==============================] - 2s 199ms/step - loss: 1.2571e-04 - val_loss: 0.0012\n",
            "Epoch 85/100\n",
            "12/12 [==============================] - 2s 190ms/step - loss: 1.2622e-04 - val_loss: 0.0016\n",
            "Epoch 86/100\n",
            "12/12 [==============================] - 2s 189ms/step - loss: 1.3612e-04 - val_loss: 0.0012\n",
            "Epoch 87/100\n",
            "12/12 [==============================] - 2s 192ms/step - loss: 1.2916e-04 - val_loss: 0.0014\n",
            "Epoch 88/100\n",
            "12/12 [==============================] - 2s 191ms/step - loss: 1.3516e-04 - val_loss: 0.0021\n",
            "Epoch 89/100\n",
            "12/12 [==============================] - 2s 199ms/step - loss: 1.4333e-04 - val_loss: 9.8334e-04\n",
            "Epoch 90/100\n",
            "12/12 [==============================] - 2s 206ms/step - loss: 1.4581e-04 - val_loss: 0.0018\n",
            "Epoch 91/100\n",
            "12/12 [==============================] - 2s 191ms/step - loss: 1.3646e-04 - val_loss: 0.0018\n",
            "Epoch 92/100\n",
            "12/12 [==============================] - 2s 188ms/step - loss: 1.2210e-04 - val_loss: 0.0017\n",
            "Epoch 93/100\n",
            "12/12 [==============================] - 2s 196ms/step - loss: 1.1349e-04 - val_loss: 0.0018\n",
            "Epoch 94/100\n",
            "12/12 [==============================] - 2s 194ms/step - loss: 1.2202e-04 - val_loss: 0.0013\n",
            "Epoch 95/100\n",
            "12/12 [==============================] - 2s 202ms/step - loss: 1.2413e-04 - val_loss: 9.3787e-04\n",
            "Epoch 96/100\n",
            "12/12 [==============================] - 2s 206ms/step - loss: 1.1408e-04 - val_loss: 0.0013\n",
            "Epoch 97/100\n",
            "12/12 [==============================] - 2s 193ms/step - loss: 1.1158e-04 - val_loss: 0.0012\n",
            "Epoch 98/100\n",
            "12/12 [==============================] - 2s 190ms/step - loss: 1.1026e-04 - val_loss: 0.0018\n",
            "Epoch 99/100\n",
            "12/12 [==============================] - 2s 192ms/step - loss: 1.0673e-04 - val_loss: 0.0010\n",
            "Epoch 100/100\n",
            "12/12 [==============================] - 2s 191ms/step - loss: 1.0639e-04 - val_loss: 9.0927e-04\n"
          ],
          "name": "stdout"
        },
        {
          "output_type": "execute_result",
          "data": {
            "text/plain": [
              "<tensorflow.python.keras.callbacks.History at 0x7f291393cda0>"
            ]
          },
          "metadata": {
            "tags": []
          },
          "execution_count": 62
        }
      ]
    },
    {
      "cell_type": "code",
      "metadata": {
        "id": "LLwZ7zUoQ30A",
        "colab_type": "code",
        "colab": {}
      },
      "source": [
        "import tensorflow as tf"
      ],
      "execution_count": 63,
      "outputs": []
    },
    {
      "cell_type": "code",
      "metadata": {
        "id": "L1IUdhXaQ30D",
        "colab_type": "code",
        "colab": {
          "base_uri": "https://localhost:8080/",
          "height": 35
        },
        "outputId": "719b0334-e207-4612-ae06-0b91ac296799"
      },
      "source": [
        "tf.__version__"
      ],
      "execution_count": 64,
      "outputs": [
        {
          "output_type": "execute_result",
          "data": {
            "application/vnd.google.colaboratory.intrinsic+json": {
              "type": "string"
            },
            "text/plain": [
              "'2.3.0'"
            ]
          },
          "metadata": {
            "tags": []
          },
          "execution_count": 64
        }
      ]
    },
    {
      "cell_type": "code",
      "metadata": {
        "id": "i1KvI6kNQ30F",
        "colab_type": "code",
        "colab": {}
      },
      "source": [
        "### Lets Do the prediction and check performance metrics\n",
        "train_predict=model.predict(X_train)\n",
        "test_predict=model.predict(X_test)"
      ],
      "execution_count": 65,
      "outputs": []
    },
    {
      "cell_type": "code",
      "metadata": {
        "id": "RGyxMVCtQ30H",
        "colab_type": "code",
        "colab": {}
      },
      "source": [
        "##Transformback to original form\n",
        "train_predict=scaler.inverse_transform(train_predict)\n",
        "test_predict=scaler.inverse_transform(test_predict)"
      ],
      "execution_count": 66,
      "outputs": []
    },
    {
      "cell_type": "code",
      "metadata": {
        "id": "wjXTYqbNQ30J",
        "colab_type": "code",
        "colab": {
          "base_uri": "https://localhost:8080/",
          "height": 34
        },
        "outputId": "c0833b36-29ab-4493-b523-1ccaa52124f2"
      },
      "source": [
        "### Calculate RMSE performance metrics\n",
        "import math\n",
        "from sklearn.metrics import mean_squared_error\n",
        "math.sqrt(mean_squared_error(y_train,train_predict))"
      ],
      "execution_count": 67,
      "outputs": [
        {
          "output_type": "execute_result",
          "data": {
            "text/plain": [
              "152.71526121486357"
            ]
          },
          "metadata": {
            "tags": []
          },
          "execution_count": 67
        }
      ]
    },
    {
      "cell_type": "code",
      "metadata": {
        "id": "TGzg05iDQ30L",
        "colab_type": "code",
        "colab": {
          "base_uri": "https://localhost:8080/",
          "height": 34
        },
        "outputId": "cd9a0367-242a-4680-fc19-a5e4d2935016"
      },
      "source": [
        "### Test Data RMSE\n",
        "math.sqrt(mean_squared_error(ytest,test_predict))"
      ],
      "execution_count": 68,
      "outputs": [
        {
          "output_type": "execute_result",
          "data": {
            "text/plain": [
              "269.00756183275985"
            ]
          },
          "metadata": {
            "tags": []
          },
          "execution_count": 68
        }
      ]
    },
    {
      "cell_type": "code",
      "metadata": {
        "id": "KDPU_c0CQ30N",
        "colab_type": "code",
        "colab": {
          "base_uri": "https://localhost:8080/",
          "height": 265
        },
        "outputId": "0763405b-57ac-4d5b-b1c5-9d811ae9b49c"
      },
      "source": [
        "### Plotting \n",
        "# shift train predictions for plotting\n",
        "look_back=100\n",
        "trainPredictPlot = numpy.empty_like(df1)\n",
        "trainPredictPlot[:, :] = np.nan\n",
        "trainPredictPlot[look_back:len(train_predict)+look_back, :] = train_predict\n",
        "# shift test predictions for plotting\n",
        "testPredictPlot = numpy.empty_like(df1)\n",
        "testPredictPlot[:, :] = numpy.nan\n",
        "testPredictPlot[len(train_predict)+(look_back*2)+1:len(df1)-1, :] = test_predict\n",
        "# plot baseline and predictions\n",
        "plt.plot(scaler.inverse_transform(df1))\n",
        "plt.plot(trainPredictPlot)\n",
        "plt.plot(testPredictPlot)\n",
        "plt.show()"
      ],
      "execution_count": 69,
      "outputs": [
        {
          "output_type": "display_data",
          "data": {
            "image/png": "[encoded data removed]",
            "text/plain": [
              "<Figure size 432x288 with 1 Axes>"
            ]
          },
          "metadata": {
            "tags": [],
            "needs_background": "light"
          }
        }
      ]
    },
    {
      "cell_type": "code",
      "metadata": {
        "id": "ZNmYtpP6Q30P",
        "colab_type": "code",
        "colab": {
          "base_uri": "https://localhost:8080/",
          "height": 34
        },
        "outputId": "c33ec443-9299-4db8-f8ed-82e76c3b166c"
      },
      "source": [
        "len(test_data)"
      ],
      "execution_count": 70,
      "outputs": [
        {
          "output_type": "execute_result",
          "data": {
            "text/plain": [
              "440"
            ]
          },
          "metadata": {
            "tags": []
          },
          "execution_count": 70
        }
      ]
    },
    {
      "cell_type": "code",
      "metadata": {
        "id": "OV-26y3YQ30R",
        "colab_type": "code",
        "colab": {
          "base_uri": "https://localhost:8080/",
          "height": 34
        },
        "outputId": "3263d41a-6ee2-4e02-ea3b-6986e3cc33af"
      },
      "source": [
        "x_input=test_data[341:].reshape(1,-1)\n",
        "x_input.shape\n"
      ],
      "execution_count": 71,
      "outputs": [
        {
          "output_type": "execute_result",
          "data": {
            "text/plain": [
              "(1, 99)"
            ]
          },
          "metadata": {
            "tags": []
          },
          "execution_count": 71
        }
      ]
    },
    {
      "cell_type": "code",
      "metadata": {
        "id": "gDaYt5PVQ30T",
        "colab_type": "code",
        "colab": {}
      },
      "source": [
        ""
      ],
      "execution_count": 71,
      "outputs": []
    },
    {
      "cell_type": "code",
      "metadata": {
        "id": "m9ss3g18Q30U",
        "colab_type": "code",
        "colab": {}
      },
      "source": [
        ""
      ],
      "execution_count": 71,
      "outputs": []
    },
    {
      "cell_type": "code",
      "metadata": {
        "id": "hTJ-u0RgQ30X",
        "colab_type": "code",
        "colab": {}
      },
      "source": [
        "temp_input=list(x_input)\n",
        "temp_input=temp_input[0].tolist()"
      ],
      "execution_count": 72,
      "outputs": []
    },
    {
      "cell_type": "code",
      "metadata": {
        "id": "1R0NmvUHQ30Z",
        "colab_type": "code",
        "colab": {
          "base_uri": "https://localhost:8080/",
          "height": 1000
        },
        "outputId": "18672e95-b3db-4736-e653-4351096fd675"
      },
      "source": [
        "temp_input"
      ],
      "execution_count": 73,
      "outputs": [
        {
          "output_type": "execute_result",
          "data": {
            "text/plain": [
              "[0.42855969556766227,\n",
              " 0.42483642237249164,\n",
              " 0.46020751772661317,\n",
              " 0.43091411832343207,\n",
              " 0.45026966353656206,\n",
              " 0.44884605907958497,\n",
              " 0.4122156213212145,\n",
              " 0.42322117885399846,\n",
              " 0.4135844717606154,\n",
              " 0.47124045226818534,\n",
              " 0.4629178415966272,\n",
              " 0.48109617543187233,\n",
              " 0.48635256111917213,\n",
              " 0.5007528677416706,\n",
              " 0.538533139869138,\n",
              " 0.5313603635666767,\n",
              " 0.5375475675527692,\n",
              " 0.5268979111342296,\n",
              " 0.5108276069756619,\n",
              " 0.48739288745311693,\n",
              " 0.5085553152462563,\n",
              " 0.505625975305938,\n",
              " 0.5273633202836259,\n",
              " 0.5279108604593863,\n",
              " 0.515344813425685,\n",
              " 0.5403947764667233,\n",
              " 0.5570126208010513,\n",
              " 0.5440632956443179,\n",
              " 0.5552604922386181,\n",
              " 0.5673063761053467,\n",
              " 0.5757111178032689,\n",
              " 0.584225367536343,\n",
              " 0.6017192761518877,\n",
              " 0.6150792564404414,\n",
              " 0.6052235332767543,\n",
              " 0.5949297779724587,\n",
              " 0.6001040326333946,\n",
              " 0.5950940400251868,\n",
              " 0.6149423713965012,\n",
              " 0.6099597557970816,\n",
              " 0.6266323541489858,\n",
              " 0.6201166260574371,\n",
              " 0.6257015358501931,\n",
              " 0.6197881019519809,\n",
              " 0.6235661291647275,\n",
              " 0.6239494072877598,\n",
              " 0.6231007200153311,\n",
              " 0.6338051304514469,\n",
              " 0.6378843047608618,\n",
              " 0.6427574123251294,\n",
              " 0.6350918498644839,\n",
              " 0.660223943931886,\n",
              " 0.6655898376543379,\n",
              " 0.6944178279081228,\n",
              " 0.7186464806855203,\n",
              " 0.6722698277986147,\n",
              " 0.6802091603471405,\n",
              " 0.6916801270293208,\n",
              " 0.7165658280176308,\n",
              " 0.7152243545870178,\n",
              " 0.7156076327100502,\n",
              " 0.7101048539436582,\n",
              " 0.7351548169846963,\n",
              " 0.7561256057163195,\n",
              " 0.7384126810304706,\n",
              " 0.7514988912311441,\n",
              " 0.7208092643797739,\n",
              " 0.74312152654201,\n",
              " 0.7513893831959921,\n",
              " 0.7495003695896187,\n",
              " 0.7495003695896187,\n",
              " 0.7761655761491499,\n",
              " 0.7729898431297397,\n",
              " 0.7967530867577408,\n",
              " 0.801242916198976,\n",
              " 0.8030771757877735,\n",
              " 0.7982314452322941,\n",
              " 0.8155337147863226,\n",
              " 0.8228433761327236,\n",
              " 0.8096750349056863,\n",
              " 0.8075396282202207,\n",
              " 0.8297697593560929,\n",
              " 0.8149040435841981,\n",
              " 0.8178881375420921,\n",
              " 0.7694034549785091,\n",
              " 0.7668847701700112,\n",
              " 0.7909217838858926,\n",
              " 0.7738659074109564,\n",
              " 0.7934404686943906,\n",
              " 0.8060338927368795,\n",
              " 0.9163084841350235,\n",
              " 0.9456292605469927,\n",
              " 0.9535959701043064,\n",
              " 0.9579489145016016,\n",
              " 1.0,\n",
              " 0.9694472581925699,\n",
              " 0.9871328058696307,\n",
              " 0.9504202370848962,\n",
              " 0.990226407862677]"
            ]
          },
          "metadata": {
            "tags": []
          },
          "execution_count": 73
        }
      ]
    },
    {
      "cell_type": "code",
      "metadata": {
        "id": "SJVECGiqQ30c",
        "colab_type": "code",
        "colab": {
          "base_uri": "https://localhost:8080/",
          "height": 1000
        },
        "outputId": "81d194ab-e061-483c-f967-c42467e05f5c"
      },
      "source": [
        "# demonstrate prediction for next 10 days\n",
        "from numpy import array\n",
        "\n",
        "lst_output=[]\n",
        "n_steps=100\n",
        "i=0\n",
        "while(i<30):\n",
        "    \n",
        "    if(len(temp_input)>100):\n",
        "        #print(temp_input)\n",
        "        x_input=np.array(temp_input[1:])\n",
        "        print(\"{} day input {}\".format(i,x_input))\n",
        "        x_input=x_input.reshape(1,-1)\n",
        "        x_input = x_input.reshape((1, n_steps, 1))\n",
        "        #print(x_input)\n",
        "        yhat = model.predict(x_input, verbose=0)\n",
        "        print(\"{} day output {}\".format(i,yhat))\n",
        "        temp_input.extend(yhat[0].tolist())\n",
        "        temp_input=temp_input[1:]\n",
        "        #print(temp_input)\n",
        "        lst_output.extend(yhat.tolist())\n",
        "        i=i+1\n",
        "    else:\n",
        "        x_input = x_input.reshape((1, n_steps,1))\n",
        "        yhat = model.predict(x_input, verbose=0)\n",
        "        print(yhat[0])\n",
        "        temp_input.extend(yhat[0].tolist())\n",
        "        print(len(temp_input))\n",
        "        lst_output.extend(yhat.tolist())\n",
        "        i=i+1\n",
        "    \n",
        "\n",
        "print(lst_output)"
      ],
      "execution_count": 76,
      "outputs": [
        {
          "output_type": "stream",
          "text": [
            "0 day input [0.42483642 0.46020752 0.43091412 0.45026966 0.44884606 0.41221562\n",
            " 0.42322118 0.41358447 0.47124045 0.46291784 0.48109618 0.48635256\n",
            " 0.50075287 0.53853314 0.53136036 0.53754757 0.52689791 0.51082761\n",
            " 0.48739289 0.50855532 0.50562598 0.52736332 0.52791086 0.51534481\n",
            " 0.54039478 0.55701262 0.5440633  0.55526049 0.56730638 0.57571112\n",
            " 0.58422537 0.60171928 0.61507926 0.60522353 0.59492978 0.60010403\n",
            " 0.59509404 0.61494237 0.60995976 0.62663235 0.62011663 0.62570154\n",
            " 0.6197881  0.62356613 0.62394941 0.62310072 0.63380513 0.6378843\n",
            " 0.64275741 0.63509185 0.66022394 0.66558984 0.69441783 0.71864648\n",
            " 0.67226983 0.68020916 0.69168013 0.71656583 0.71522435 0.71560763\n",
            " 0.71010485 0.73515482 0.75612561 0.73841268 0.75149889 0.72080926\n",
            " 0.74312153 0.75138938 0.74950037 0.74950037 0.77616558 0.77298984\n",
            " 0.79675309 0.80124292 0.80307718 0.79823145 0.81553371 0.82284338\n",
            " 0.80967503 0.80753963 0.82976976 0.81490404 0.81788814 0.76940345\n",
            " 0.76688477 0.79092178 0.77386591 0.79344047 0.80603389 0.91630848\n",
            " 0.94562926 0.95359597 0.95794891 1.         0.96944726 0.98713281\n",
            " 0.95042024 0.99022641 0.94005513 0.94005513]\n",
            "0 day output [[0.9122826]]\n",
            "1 day input [0.46020752 0.43091412 0.45026966 0.44884606 0.41221562 0.42322118\n",
            " 0.41358447 0.47124045 0.46291784 0.48109618 0.48635256 0.50075287\n",
            " 0.53853314 0.53136036 0.53754757 0.52689791 0.51082761 0.48739289\n",
            " 0.50855532 0.50562598 0.52736332 0.52791086 0.51534481 0.54039478\n",
            " 0.55701262 0.5440633  0.55526049 0.56730638 0.57571112 0.58422537\n",
            " 0.60171928 0.61507926 0.60522353 0.59492978 0.60010403 0.59509404\n",
            " 0.61494237 0.60995976 0.62663235 0.62011663 0.62570154 0.6197881\n",
            " 0.62356613 0.62394941 0.62310072 0.63380513 0.6378843  0.64275741\n",
            " 0.63509185 0.66022394 0.66558984 0.69441783 0.71864648 0.67226983\n",
            " 0.68020916 0.69168013 0.71656583 0.71522435 0.71560763 0.71010485\n",
            " 0.73515482 0.75612561 0.73841268 0.75149889 0.72080926 0.74312153\n",
            " 0.75138938 0.74950037 0.74950037 0.77616558 0.77298984 0.79675309\n",
            " 0.80124292 0.80307718 0.79823145 0.81553371 0.82284338 0.80967503\n",
            " 0.80753963 0.82976976 0.81490404 0.81788814 0.76940345 0.76688477\n",
            " 0.79092178 0.77386591 0.79344047 0.80603389 0.91630848 0.94562926\n",
            " 0.95359597 0.95794891 1.         0.96944726 0.98713281 0.95042024\n",
            " 0.99022641 0.94005513 0.94005513 0.91228259]\n",
            "1 day output [[0.89390683]]\n",
            "2 day input [0.43091412 0.45026966 0.44884606 0.41221562 0.42322118 0.41358447\n",
            " 0.47124045 0.46291784 0.48109618 0.48635256 0.50075287 0.53853314\n",
            " 0.53136036 0.53754757 0.52689791 0.51082761 0.48739289 0.50855532\n",
            " 0.50562598 0.52736332 0.52791086 0.51534481 0.54039478 0.55701262\n",
            " 0.5440633  0.55526049 0.56730638 0.57571112 0.58422537 0.60171928\n",
            " 0.61507926 0.60522353 0.59492978 0.60010403 0.59509404 0.61494237\n",
            " 0.60995976 0.62663235 0.62011663 0.62570154 0.6197881  0.62356613\n",
            " 0.62394941 0.62310072 0.63380513 0.6378843  0.64275741 0.63509185\n",
            " 0.66022394 0.66558984 0.69441783 0.71864648 0.67226983 0.68020916\n",
            " 0.69168013 0.71656583 0.71522435 0.71560763 0.71010485 0.73515482\n",
            " 0.75612561 0.73841268 0.75149889 0.72080926 0.74312153 0.75138938\n",
            " 0.74950037 0.74950037 0.77616558 0.77298984 0.79675309 0.80124292\n",
            " 0.80307718 0.79823145 0.81553371 0.82284338 0.80967503 0.80753963\n",
            " 0.82976976 0.81490404 0.81788814 0.76940345 0.76688477 0.79092178\n",
            " 0.77386591 0.79344047 0.80603389 0.91630848 0.94562926 0.95359597\n",
            " 0.95794891 1.         0.96944726 0.98713281 0.95042024 0.99022641\n",
            " 0.94005513 0.94005513 0.91228259 0.89390683]\n",
            "2 day output [[0.8738794]]\n",
            "3 day input [0.45026966 0.44884606 0.41221562 0.42322118 0.41358447 0.47124045\n",
            " 0.46291784 0.48109618 0.48635256 0.50075287 0.53853314 0.53136036\n",
            " 0.53754757 0.52689791 0.51082761 0.48739289 0.50855532 0.50562598\n",
            " 0.52736332 0.52791086 0.51534481 0.54039478 0.55701262 0.5440633\n",
            " 0.55526049 0.56730638 0.57571112 0.58422537 0.60171928 0.61507926\n",
            " 0.60522353 0.59492978 0.60010403 0.59509404 0.61494237 0.60995976\n",
            " 0.62663235 0.62011663 0.62570154 0.6197881  0.62356613 0.62394941\n",
            " 0.62310072 0.63380513 0.6378843  0.64275741 0.63509185 0.66022394\n",
            " 0.66558984 0.69441783 0.71864648 0.67226983 0.68020916 0.69168013\n",
            " 0.71656583 0.71522435 0.71560763 0.71010485 0.73515482 0.75612561\n",
            " 0.73841268 0.75149889 0.72080926 0.74312153 0.75138938 0.74950037\n",
            " 0.74950037 0.77616558 0.77298984 0.79675309 0.80124292 0.80307718\n",
            " 0.79823145 0.81553371 0.82284338 0.80967503 0.80753963 0.82976976\n",
            " 0.81490404 0.81788814 0.76940345 0.76688477 0.79092178 0.77386591\n",
            " 0.79344047 0.80603389 0.91630848 0.94562926 0.95359597 0.95794891\n",
            " 1.         0.96944726 0.98713281 0.95042024 0.99022641 0.94005513\n",
            " 0.94005513 0.91228259 0.89390683 0.87387937]\n",
            "3 day output [[0.8533649]]\n",
            "4 day input [0.44884606 0.41221562 0.42322118 0.41358447 0.47124045 0.46291784\n",
            " 0.48109618 0.48635256 0.50075287 0.53853314 0.53136036 0.53754757\n",
            " 0.52689791 0.51082761 0.48739289 0.50855532 0.50562598 0.52736332\n",
            " 0.52791086 0.51534481 0.54039478 0.55701262 0.5440633  0.55526049\n",
            " 0.56730638 0.57571112 0.58422537 0.60171928 0.61507926 0.60522353\n",
            " 0.59492978 0.60010403 0.59509404 0.61494237 0.60995976 0.62663235\n",
            " 0.62011663 0.62570154 0.6197881  0.62356613 0.62394941 0.62310072\n",
            " 0.63380513 0.6378843  0.64275741 0.63509185 0.66022394 0.66558984\n",
            " 0.69441783 0.71864648 0.67226983 0.68020916 0.69168013 0.71656583\n",
            " 0.71522435 0.71560763 0.71010485 0.73515482 0.75612561 0.73841268\n",
            " 0.75149889 0.72080926 0.74312153 0.75138938 0.74950037 0.74950037\n",
            " 0.77616558 0.77298984 0.79675309 0.80124292 0.80307718 0.79823145\n",
            " 0.81553371 0.82284338 0.80967503 0.80753963 0.82976976 0.81490404\n",
            " 0.81788814 0.76940345 0.76688477 0.79092178 0.77386591 0.79344047\n",
            " 0.80603389 0.91630848 0.94562926 0.95359597 0.95794891 1.\n",
            " 0.96944726 0.98713281 0.95042024 0.99022641 0.94005513 0.94005513\n",
            " 0.91228259 0.89390683 0.87387937 0.85336488]\n",
            "4 day output [[0.833191]]\n",
            "5 day input [0.41221562 0.42322118 0.41358447 0.47124045 0.46291784 0.48109618\n",
            " 0.48635256 0.50075287 0.53853314 0.53136036 0.53754757 0.52689791\n",
            " 0.51082761 0.48739289 0.50855532 0.50562598 0.52736332 0.52791086\n",
            " 0.51534481 0.54039478 0.55701262 0.5440633  0.55526049 0.56730638\n",
            " 0.57571112 0.58422537 0.60171928 0.61507926 0.60522353 0.59492978\n",
            " 0.60010403 0.59509404 0.61494237 0.60995976 0.62663235 0.62011663\n",
            " 0.62570154 0.6197881  0.62356613 0.62394941 0.62310072 0.63380513\n",
            " 0.6378843  0.64275741 0.63509185 0.66022394 0.66558984 0.69441783\n",
            " 0.71864648 0.67226983 0.68020916 0.69168013 0.71656583 0.71522435\n",
            " 0.71560763 0.71010485 0.73515482 0.75612561 0.73841268 0.75149889\n",
            " 0.72080926 0.74312153 0.75138938 0.74950037 0.74950037 0.77616558\n",
            " 0.77298984 0.79675309 0.80124292 0.80307718 0.79823145 0.81553371\n",
            " 0.82284338 0.80967503 0.80753963 0.82976976 0.81490404 0.81788814\n",
            " 0.76940345 0.76688477 0.79092178 0.77386591 0.79344047 0.80603389\n",
            " 0.91630848 0.94562926 0.95359597 0.95794891 1.         0.96944726\n",
            " 0.98713281 0.95042024 0.99022641 0.94005513 0.94005513 0.91228259\n",
            " 0.89390683 0.87387937 0.85336488 0.83319098]\n",
            "5 day output [[0.81390744]]\n",
            "6 day input [0.42322118 0.41358447 0.47124045 0.46291784 0.48109618 0.48635256\n",
            " 0.50075287 0.53853314 0.53136036 0.53754757 0.52689791 0.51082761\n",
            " 0.48739289 0.50855532 0.50562598 0.52736332 0.52791086 0.51534481\n",
            " 0.54039478 0.55701262 0.5440633  0.55526049 0.56730638 0.57571112\n",
            " 0.58422537 0.60171928 0.61507926 0.60522353 0.59492978 0.60010403\n",
            " 0.59509404 0.61494237 0.60995976 0.62663235 0.62011663 0.62570154\n",
            " 0.6197881  0.62356613 0.62394941 0.62310072 0.63380513 0.6378843\n",
            " 0.64275741 0.63509185 0.66022394 0.66558984 0.69441783 0.71864648\n",
            " 0.67226983 0.68020916 0.69168013 0.71656583 0.71522435 0.71560763\n",
            " 0.71010485 0.73515482 0.75612561 0.73841268 0.75149889 0.72080926\n",
            " 0.74312153 0.75138938 0.74950037 0.74950037 0.77616558 0.77298984\n",
            " 0.79675309 0.80124292 0.80307718 0.79823145 0.81553371 0.82284338\n",
            " 0.80967503 0.80753963 0.82976976 0.81490404 0.81788814 0.76940345\n",
            " 0.76688477 0.79092178 0.77386591 0.79344047 0.80603389 0.91630848\n",
            " 0.94562926 0.95359597 0.95794891 1.         0.96944726 0.98713281\n",
            " 0.95042024 0.99022641 0.94005513 0.94005513 0.91228259 0.89390683\n",
            " 0.87387937 0.85336488 0.83319098 0.81390744]\n",
            "6 day output [[0.7958701]]\n",
            "7 day input [0.41358447 0.47124045 0.46291784 0.48109618 0.48635256 0.50075287\n",
            " 0.53853314 0.53136036 0.53754757 0.52689791 0.51082761 0.48739289\n",
            " 0.50855532 0.50562598 0.52736332 0.52791086 0.51534481 0.54039478\n",
            " 0.55701262 0.5440633  0.55526049 0.56730638 0.57571112 0.58422537\n",
            " 0.60171928 0.61507926 0.60522353 0.59492978 0.60010403 0.59509404\n",
            " 0.61494237 0.60995976 0.62663235 0.62011663 0.62570154 0.6197881\n",
            " 0.62356613 0.62394941 0.62310072 0.63380513 0.6378843  0.64275741\n",
            " 0.63509185 0.66022394 0.66558984 0.69441783 0.71864648 0.67226983\n",
            " 0.68020916 0.69168013 0.71656583 0.71522435 0.71560763 0.71010485\n",
            " 0.73515482 0.75612561 0.73841268 0.75149889 0.72080926 0.74312153\n",
            " 0.75138938 0.74950037 0.74950037 0.77616558 0.77298984 0.79675309\n",
            " 0.80124292 0.80307718 0.79823145 0.81553371 0.82284338 0.80967503\n",
            " 0.80753963 0.82976976 0.81490404 0.81788814 0.76940345 0.76688477\n",
            " 0.79092178 0.77386591 0.79344047 0.80603389 0.91630848 0.94562926\n",
            " 0.95359597 0.95794891 1.         0.96944726 0.98713281 0.95042024\n",
            " 0.99022641 0.94005513 0.94005513 0.91228259 0.89390683 0.87387937\n",
            " 0.85336488 0.83319098 0.81390744 0.79587013]\n",
            "7 day output [[0.7793024]]\n",
            "8 day input [0.47124045 0.46291784 0.48109618 0.48635256 0.50075287 0.53853314\n",
            " 0.53136036 0.53754757 0.52689791 0.51082761 0.48739289 0.50855532\n",
            " 0.50562598 0.52736332 0.52791086 0.51534481 0.54039478 0.55701262\n",
            " 0.5440633  0.55526049 0.56730638 0.57571112 0.58422537 0.60171928\n",
            " 0.61507926 0.60522353 0.59492978 0.60010403 0.59509404 0.61494237\n",
            " 0.60995976 0.62663235 0.62011663 0.62570154 0.6197881  0.62356613\n",
            " 0.62394941 0.62310072 0.63380513 0.6378843  0.64275741 0.63509185\n",
            " 0.66022394 0.66558984 0.69441783 0.71864648 0.67226983 0.68020916\n",
            " 0.69168013 0.71656583 0.71522435 0.71560763 0.71010485 0.73515482\n",
            " 0.75612561 0.73841268 0.75149889 0.72080926 0.74312153 0.75138938\n",
            " 0.74950037 0.74950037 0.77616558 0.77298984 0.79675309 0.80124292\n",
            " 0.80307718 0.79823145 0.81553371 0.82284338 0.80967503 0.80753963\n",
            " 0.82976976 0.81490404 0.81788814 0.76940345 0.76688477 0.79092178\n",
            " 0.77386591 0.79344047 0.80603389 0.91630848 0.94562926 0.95359597\n",
            " 0.95794891 1.         0.96944726 0.98713281 0.95042024 0.99022641\n",
            " 0.94005513 0.94005513 0.91228259 0.89390683 0.87387937 0.85336488\n",
            " 0.83319098 0.81390744 0.79587013 0.77930242]\n",
            "8 day output [[0.764332]]\n",
            "9 day input [0.46291784 0.48109618 0.48635256 0.50075287 0.53853314 0.53136036\n",
            " 0.53754757 0.52689791 0.51082761 0.48739289 0.50855532 0.50562598\n",
            " 0.52736332 0.52791086 0.51534481 0.54039478 0.55701262 0.5440633\n",
            " 0.55526049 0.56730638 0.57571112 0.58422537 0.60171928 0.61507926\n",
            " 0.60522353 0.59492978 0.60010403 0.59509404 0.61494237 0.60995976\n",
            " 0.62663235 0.62011663 0.62570154 0.6197881  0.62356613 0.62394941\n",
            " 0.62310072 0.63380513 0.6378843  0.64275741 0.63509185 0.66022394\n",
            " 0.66558984 0.69441783 0.71864648 0.67226983 0.68020916 0.69168013\n",
            " 0.71656583 0.71522435 0.71560763 0.71010485 0.73515482 0.75612561\n",
            " 0.73841268 0.75149889 0.72080926 0.74312153 0.75138938 0.74950037\n",
            " 0.74950037 0.77616558 0.77298984 0.79675309 0.80124292 0.80307718\n",
            " 0.79823145 0.81553371 0.82284338 0.80967503 0.80753963 0.82976976\n",
            " 0.81490404 0.81788814 0.76940345 0.76688477 0.79092178 0.77386591\n",
            " 0.79344047 0.80603389 0.91630848 0.94562926 0.95359597 0.95794891\n",
            " 1.         0.96944726 0.98713281 0.95042024 0.99022641 0.94005513\n",
            " 0.94005513 0.91228259 0.89390683 0.87387937 0.85336488 0.83319098\n",
            " 0.81390744 0.79587013 0.77930242 0.764332  ]\n",
            "9 day output [[0.75101197]]\n",
            "10 day input [0.48109618 0.48635256 0.50075287 0.53853314 0.53136036 0.53754757\n",
            " 0.52689791 0.51082761 0.48739289 0.50855532 0.50562598 0.52736332\n",
            " 0.52791086 0.51534481 0.54039478 0.55701262 0.5440633  0.55526049\n",
            " 0.56730638 0.57571112 0.58422537 0.60171928 0.61507926 0.60522353\n",
            " 0.59492978 0.60010403 0.59509404 0.61494237 0.60995976 0.62663235\n",
            " 0.62011663 0.62570154 0.6197881  0.62356613 0.62394941 0.62310072\n",
            " 0.63380513 0.6378843  0.64275741 0.63509185 0.66022394 0.66558984\n",
            " 0.69441783 0.71864648 0.67226983 0.68020916 0.69168013 0.71656583\n",
            " 0.71522435 0.71560763 0.71010485 0.73515482 0.75612561 0.73841268\n",
            " 0.75149889 0.72080926 0.74312153 0.75138938 0.74950037 0.74950037\n",
            " 0.77616558 0.77298984 0.79675309 0.80124292 0.80307718 0.79823145\n",
            " 0.81553371 0.82284338 0.80967503 0.80753963 0.82976976 0.81490404\n",
            " 0.81788814 0.76940345 0.76688477 0.79092178 0.77386591 0.79344047\n",
            " 0.80603389 0.91630848 0.94562926 0.95359597 0.95794891 1.\n",
            " 0.96944726 0.98713281 0.95042024 0.99022641 0.94005513 0.94005513\n",
            " 0.91228259 0.89390683 0.87387937 0.85336488 0.83319098 0.81390744\n",
            " 0.79587013 0.77930242 0.764332   0.75101197]\n",
            "10 day output [[0.7393346]]\n",
            "11 day input [0.48635256 0.50075287 0.53853314 0.53136036 0.53754757 0.52689791\n",
            " 0.51082761 0.48739289 0.50855532 0.50562598 0.52736332 0.52791086\n",
            " 0.51534481 0.54039478 0.55701262 0.5440633  0.55526049 0.56730638\n",
            " 0.57571112 0.58422537 0.60171928 0.61507926 0.60522353 0.59492978\n",
            " 0.60010403 0.59509404 0.61494237 0.60995976 0.62663235 0.62011663\n",
            " 0.62570154 0.6197881  0.62356613 0.62394941 0.62310072 0.63380513\n",
            " 0.6378843  0.64275741 0.63509185 0.66022394 0.66558984 0.69441783\n",
            " 0.71864648 0.67226983 0.68020916 0.69168013 0.71656583 0.71522435\n",
            " 0.71560763 0.71010485 0.73515482 0.75612561 0.73841268 0.75149889\n",
            " 0.72080926 0.74312153 0.75138938 0.74950037 0.74950037 0.77616558\n",
            " 0.77298984 0.79675309 0.80124292 0.80307718 0.79823145 0.81553371\n",
            " 0.82284338 0.80967503 0.80753963 0.82976976 0.81490404 0.81788814\n",
            " 0.76940345 0.76688477 0.79092178 0.77386591 0.79344047 0.80603389\n",
            " 0.91630848 0.94562926 0.95359597 0.95794891 1.         0.96944726\n",
            " 0.98713281 0.95042024 0.99022641 0.94005513 0.94005513 0.91228259\n",
            " 0.89390683 0.87387937 0.85336488 0.83319098 0.81390744 0.79587013\n",
            " 0.77930242 0.764332   0.75101197 0.73933458]\n",
            "11 day output [[0.72924376]]\n",
            "12 day input [0.50075287 0.53853314 0.53136036 0.53754757 0.52689791 0.51082761\n",
            " 0.48739289 0.50855532 0.50562598 0.52736332 0.52791086 0.51534481\n",
            " 0.54039478 0.55701262 0.5440633  0.55526049 0.56730638 0.57571112\n",
            " 0.58422537 0.60171928 0.61507926 0.60522353 0.59492978 0.60010403\n",
            " 0.59509404 0.61494237 0.60995976 0.62663235 0.62011663 0.62570154\n",
            " 0.6197881  0.62356613 0.62394941 0.62310072 0.63380513 0.6378843\n",
            " 0.64275741 0.63509185 0.66022394 0.66558984 0.69441783 0.71864648\n",
            " 0.67226983 0.68020916 0.69168013 0.71656583 0.71522435 0.71560763\n",
            " 0.71010485 0.73515482 0.75612561 0.73841268 0.75149889 0.72080926\n",
            " 0.74312153 0.75138938 0.74950037 0.74950037 0.77616558 0.77298984\n",
            " 0.79675309 0.80124292 0.80307718 0.79823145 0.81553371 0.82284338\n",
            " 0.80967503 0.80753963 0.82976976 0.81490404 0.81788814 0.76940345\n",
            " 0.76688477 0.79092178 0.77386591 0.79344047 0.80603389 0.91630848\n",
            " 0.94562926 0.95359597 0.95794891 1.         0.96944726 0.98713281\n",
            " 0.95042024 0.99022641 0.94005513 0.94005513 0.91228259 0.89390683\n",
            " 0.87387937 0.85336488 0.83319098 0.81390744 0.79587013 0.77930242\n",
            " 0.764332   0.75101197 0.73933458 0.72924376]\n",
            "12 day output [[0.72064364]]\n",
            "13 day input [0.53853314 0.53136036 0.53754757 0.52689791 0.51082761 0.48739289\n",
            " 0.50855532 0.50562598 0.52736332 0.52791086 0.51534481 0.54039478\n",
            " 0.55701262 0.5440633  0.55526049 0.56730638 0.57571112 0.58422537\n",
            " 0.60171928 0.61507926 0.60522353 0.59492978 0.60010403 0.59509404\n",
            " 0.61494237 0.60995976 0.62663235 0.62011663 0.62570154 0.6197881\n",
            " 0.62356613 0.62394941 0.62310072 0.63380513 0.6378843  0.64275741\n",
            " 0.63509185 0.66022394 0.66558984 0.69441783 0.71864648 0.67226983\n",
            " 0.68020916 0.69168013 0.71656583 0.71522435 0.71560763 0.71010485\n",
            " 0.73515482 0.75612561 0.73841268 0.75149889 0.72080926 0.74312153\n",
            " 0.75138938 0.74950037 0.74950037 0.77616558 0.77298984 0.79675309\n",
            " 0.80124292 0.80307718 0.79823145 0.81553371 0.82284338 0.80967503\n",
            " 0.80753963 0.82976976 0.81490404 0.81788814 0.76940345 0.76688477\n",
            " 0.79092178 0.77386591 0.79344047 0.80603389 0.91630848 0.94562926\n",
            " 0.95359597 0.95794891 1.         0.96944726 0.98713281 0.95042024\n",
            " 0.99022641 0.94005513 0.94005513 0.91228259 0.89390683 0.87387937\n",
            " 0.85336488 0.83319098 0.81390744 0.79587013 0.77930242 0.764332\n",
            " 0.75101197 0.73933458 0.72924376 0.72064364]\n",
            "13 day output [[0.7134088]]\n",
            "14 day input [0.53136036 0.53754757 0.52689791 0.51082761 0.48739289 0.50855532\n",
            " 0.50562598 0.52736332 0.52791086 0.51534481 0.54039478 0.55701262\n",
            " 0.5440633  0.55526049 0.56730638 0.57571112 0.58422537 0.60171928\n",
            " 0.61507926 0.60522353 0.59492978 0.60010403 0.59509404 0.61494237\n",
            " 0.60995976 0.62663235 0.62011663 0.62570154 0.6197881  0.62356613\n",
            " 0.62394941 0.62310072 0.63380513 0.6378843  0.64275741 0.63509185\n",
            " 0.66022394 0.66558984 0.69441783 0.71864648 0.67226983 0.68020916\n",
            " 0.69168013 0.71656583 0.71522435 0.71560763 0.71010485 0.73515482\n",
            " 0.75612561 0.73841268 0.75149889 0.72080926 0.74312153 0.75138938\n",
            " 0.74950037 0.74950037 0.77616558 0.77298984 0.79675309 0.80124292\n",
            " 0.80307718 0.79823145 0.81553371 0.82284338 0.80967503 0.80753963\n",
            " 0.82976976 0.81490404 0.81788814 0.76940345 0.76688477 0.79092178\n",
            " 0.77386591 0.79344047 0.80603389 0.91630848 0.94562926 0.95359597\n",
            " 0.95794891 1.         0.96944726 0.98713281 0.95042024 0.99022641\n",
            " 0.94005513 0.94005513 0.91228259 0.89390683 0.87387937 0.85336488\n",
            " 0.83319098 0.81390744 0.79587013 0.77930242 0.764332   0.75101197\n",
            " 0.73933458 0.72924376 0.72064364 0.71340883]\n",
            "14 day output [[0.7073943]]\n",
            "15 day input [0.53754757 0.52689791 0.51082761 0.48739289 0.50855532 0.50562598\n",
            " 0.52736332 0.52791086 0.51534481 0.54039478 0.55701262 0.5440633\n",
            " 0.55526049 0.56730638 0.57571112 0.58422537 0.60171928 0.61507926\n",
            " 0.60522353 0.59492978 0.60010403 0.59509404 0.61494237 0.60995976\n",
            " 0.62663235 0.62011663 0.62570154 0.6197881  0.62356613 0.62394941\n",
            " 0.62310072 0.63380513 0.6378843  0.64275741 0.63509185 0.66022394\n",
            " 0.66558984 0.69441783 0.71864648 0.67226983 0.68020916 0.69168013\n",
            " 0.71656583 0.71522435 0.71560763 0.71010485 0.73515482 0.75612561\n",
            " 0.73841268 0.75149889 0.72080926 0.74312153 0.75138938 0.74950037\n",
            " 0.74950037 0.77616558 0.77298984 0.79675309 0.80124292 0.80307718\n",
            " 0.79823145 0.81553371 0.82284338 0.80967503 0.80753963 0.82976976\n",
            " 0.81490404 0.81788814 0.76940345 0.76688477 0.79092178 0.77386591\n",
            " 0.79344047 0.80603389 0.91630848 0.94562926 0.95359597 0.95794891\n",
            " 1.         0.96944726 0.98713281 0.95042024 0.99022641 0.94005513\n",
            " 0.94005513 0.91228259 0.89390683 0.87387937 0.85336488 0.83319098\n",
            " 0.81390744 0.79587013 0.77930242 0.764332   0.75101197 0.73933458\n",
            " 0.72924376 0.72064364 0.71340883 0.7073943 ]\n",
            "15 day output [[0.7024413]]\n",
            "16 day input [0.52689791 0.51082761 0.48739289 0.50855532 0.50562598 0.52736332\n",
            " 0.52791086 0.51534481 0.54039478 0.55701262 0.5440633  0.55526049\n",
            " 0.56730638 0.57571112 0.58422537 0.60171928 0.61507926 0.60522353\n",
            " 0.59492978 0.60010403 0.59509404 0.61494237 0.60995976 0.62663235\n",
            " 0.62011663 0.62570154 0.6197881  0.62356613 0.62394941 0.62310072\n",
            " 0.63380513 0.6378843  0.64275741 0.63509185 0.66022394 0.66558984\n",
            " 0.69441783 0.71864648 0.67226983 0.68020916 0.69168013 0.71656583\n",
            " 0.71522435 0.71560763 0.71010485 0.73515482 0.75612561 0.73841268\n",
            " 0.75149889 0.72080926 0.74312153 0.75138938 0.74950037 0.74950037\n",
            " 0.77616558 0.77298984 0.79675309 0.80124292 0.80307718 0.79823145\n",
            " 0.81553371 0.82284338 0.80967503 0.80753963 0.82976976 0.81490404\n",
            " 0.81788814 0.76940345 0.76688477 0.79092178 0.77386591 0.79344047\n",
            " 0.80603389 0.91630848 0.94562926 0.95359597 0.95794891 1.\n",
            " 0.96944726 0.98713281 0.95042024 0.99022641 0.94005513 0.94005513\n",
            " 0.91228259 0.89390683 0.87387937 0.85336488 0.83319098 0.81390744\n",
            " 0.79587013 0.77930242 0.764332   0.75101197 0.73933458 0.72924376\n",
            " 0.72064364 0.71340883 0.7073943  0.70244128]\n",
            "16 day output [[0.69838643]]\n",
            "17 day input [0.51082761 0.48739289 0.50855532 0.50562598 0.52736332 0.52791086\n",
            " 0.51534481 0.54039478 0.55701262 0.5440633  0.55526049 0.56730638\n",
            " 0.57571112 0.58422537 0.60171928 0.61507926 0.60522353 0.59492978\n",
            " 0.60010403 0.59509404 0.61494237 0.60995976 0.62663235 0.62011663\n",
            " 0.62570154 0.6197881  0.62356613 0.62394941 0.62310072 0.63380513\n",
            " 0.6378843  0.64275741 0.63509185 0.66022394 0.66558984 0.69441783\n",
            " 0.71864648 0.67226983 0.68020916 0.69168013 0.71656583 0.71522435\n",
            " 0.71560763 0.71010485 0.73515482 0.75612561 0.73841268 0.75149889\n",
            " 0.72080926 0.74312153 0.75138938 0.74950037 0.74950037 0.77616558\n",
            " 0.77298984 0.79675309 0.80124292 0.80307718 0.79823145 0.81553371\n",
            " 0.82284338 0.80967503 0.80753963 0.82976976 0.81490404 0.81788814\n",
            " 0.76940345 0.76688477 0.79092178 0.77386591 0.79344047 0.80603389\n",
            " 0.91630848 0.94562926 0.95359597 0.95794891 1.         0.96944726\n",
            " 0.98713281 0.95042024 0.99022641 0.94005513 0.94005513 0.91228259\n",
            " 0.89390683 0.87387937 0.85336488 0.83319098 0.81390744 0.79587013\n",
            " 0.77930242 0.764332   0.75101197 0.73933458 0.72924376 0.72064364\n",
            " 0.71340883 0.7073943  0.70244128 0.69838643]\n",
            "17 day output [[0.69506705]]\n",
            "18 day input [0.48739289 0.50855532 0.50562598 0.52736332 0.52791086 0.51534481\n",
            " 0.54039478 0.55701262 0.5440633  0.55526049 0.56730638 0.57571112\n",
            " 0.58422537 0.60171928 0.61507926 0.60522353 0.59492978 0.60010403\n",
            " 0.59509404 0.61494237 0.60995976 0.62663235 0.62011663 0.62570154\n",
            " 0.6197881  0.62356613 0.62394941 0.62310072 0.63380513 0.6378843\n",
            " 0.64275741 0.63509185 0.66022394 0.66558984 0.69441783 0.71864648\n",
            " 0.67226983 0.68020916 0.69168013 0.71656583 0.71522435 0.71560763\n",
            " 0.71010485 0.73515482 0.75612561 0.73841268 0.75149889 0.72080926\n",
            " 0.74312153 0.75138938 0.74950037 0.74950037 0.77616558 0.77298984\n",
            " 0.79675309 0.80124292 0.80307718 0.79823145 0.81553371 0.82284338\n",
            " 0.80967503 0.80753963 0.82976976 0.81490404 0.81788814 0.76940345\n",
            " 0.76688477 0.79092178 0.77386591 0.79344047 0.80603389 0.91630848\n",
            " 0.94562926 0.95359597 0.95794891 1.         0.96944726 0.98713281\n",
            " 0.95042024 0.99022641 0.94005513 0.94005513 0.91228259 0.89390683\n",
            " 0.87387937 0.85336488 0.83319098 0.81390744 0.79587013 0.77930242\n",
            " 0.764332   0.75101197 0.73933458 0.72924376 0.72064364 0.71340883\n",
            " 0.7073943  0.70244128 0.69838643 0.69506705]\n",
            "18 day output [[0.69232583]]\n",
            "19 day input [0.50855532 0.50562598 0.52736332 0.52791086 0.51534481 0.54039478\n",
            " 0.55701262 0.5440633  0.55526049 0.56730638 0.57571112 0.58422537\n",
            " 0.60171928 0.61507926 0.60522353 0.59492978 0.60010403 0.59509404\n",
            " 0.61494237 0.60995976 0.62663235 0.62011663 0.62570154 0.6197881\n",
            " 0.62356613 0.62394941 0.62310072 0.63380513 0.6378843  0.64275741\n",
            " 0.63509185 0.66022394 0.66558984 0.69441783 0.71864648 0.67226983\n",
            " 0.68020916 0.69168013 0.71656583 0.71522435 0.71560763 0.71010485\n",
            " 0.73515482 0.75612561 0.73841268 0.75149889 0.72080926 0.74312153\n",
            " 0.75138938 0.74950037 0.74950037 0.77616558 0.77298984 0.79675309\n",
            " 0.80124292 0.80307718 0.79823145 0.81553371 0.82284338 0.80967503\n",
            " 0.80753963 0.82976976 0.81490404 0.81788814 0.76940345 0.76688477\n",
            " 0.79092178 0.77386591 0.79344047 0.80603389 0.91630848 0.94562926\n",
            " 0.95359597 0.95794891 1.         0.96944726 0.98713281 0.95042024\n",
            " 0.99022641 0.94005513 0.94005513 0.91228259 0.89390683 0.87387937\n",
            " 0.85336488 0.83319098 0.81390744 0.79587013 0.77930242 0.764332\n",
            " 0.75101197 0.73933458 0.72924376 0.72064364 0.71340883 0.7073943\n",
            " 0.70244128 0.69838643 0.69506705 0.69232583]\n",
            "19 day output [[0.69001555]]\n",
            "20 day input [0.50562598 0.52736332 0.52791086 0.51534481 0.54039478 0.55701262\n",
            " 0.5440633  0.55526049 0.56730638 0.57571112 0.58422537 0.60171928\n",
            " 0.61507926 0.60522353 0.59492978 0.60010403 0.59509404 0.61494237\n",
            " 0.60995976 0.62663235 0.62011663 0.62570154 0.6197881  0.62356613\n",
            " 0.62394941 0.62310072 0.63380513 0.6378843  0.64275741 0.63509185\n",
            " 0.66022394 0.66558984 0.69441783 0.71864648 0.67226983 0.68020916\n",
            " 0.69168013 0.71656583 0.71522435 0.71560763 0.71010485 0.73515482\n",
            " 0.75612561 0.73841268 0.75149889 0.72080926 0.74312153 0.75138938\n",
            " 0.74950037 0.74950037 0.77616558 0.77298984 0.79675309 0.80124292\n",
            " 0.80307718 0.79823145 0.81553371 0.82284338 0.80967503 0.80753963\n",
            " 0.82976976 0.81490404 0.81788814 0.76940345 0.76688477 0.79092178\n",
            " 0.77386591 0.79344047 0.80603389 0.91630848 0.94562926 0.95359597\n",
            " 0.95794891 1.         0.96944726 0.98713281 0.95042024 0.99022641\n",
            " 0.94005513 0.94005513 0.91228259 0.89390683 0.87387937 0.85336488\n",
            " 0.83319098 0.81390744 0.79587013 0.77930242 0.764332   0.75101197\n",
            " 0.73933458 0.72924376 0.72064364 0.71340883 0.7073943  0.70244128\n",
            " 0.69838643 0.69506705 0.69232583 0.69001555]\n",
            "20 day output [[0.6880026]]\n",
            "21 day input [0.52736332 0.52791086 0.51534481 0.54039478 0.55701262 0.5440633\n",
            " 0.55526049 0.56730638 0.57571112 0.58422537 0.60171928 0.61507926\n",
            " 0.60522353 0.59492978 0.60010403 0.59509404 0.61494237 0.60995976\n",
            " 0.62663235 0.62011663 0.62570154 0.6197881  0.62356613 0.62394941\n",
            " 0.62310072 0.63380513 0.6378843  0.64275741 0.63509185 0.66022394\n",
            " 0.66558984 0.69441783 0.71864648 0.67226983 0.68020916 0.69168013\n",
            " 0.71656583 0.71522435 0.71560763 0.71010485 0.73515482 0.75612561\n",
            " 0.73841268 0.75149889 0.72080926 0.74312153 0.75138938 0.74950037\n",
            " 0.74950037 0.77616558 0.77298984 0.79675309 0.80124292 0.80307718\n",
            " 0.79823145 0.81553371 0.82284338 0.80967503 0.80753963 0.82976976\n",
            " 0.81490404 0.81788814 0.76940345 0.76688477 0.79092178 0.77386591\n",
            " 0.79344047 0.80603389 0.91630848 0.94562926 0.95359597 0.95794891\n",
            " 1.         0.96944726 0.98713281 0.95042024 0.99022641 0.94005513\n",
            " 0.94005513 0.91228259 0.89390683 0.87387937 0.85336488 0.83319098\n",
            " 0.81390744 0.79587013 0.77930242 0.764332   0.75101197 0.73933458\n",
            " 0.72924376 0.72064364 0.71340883 0.7073943  0.70244128 0.69838643\n",
            " 0.69506705 0.69232583 0.69001555 0.68800259]\n",
            "21 day output [[0.6861688]]\n",
            "22 day input [0.52791086 0.51534481 0.54039478 0.55701262 0.5440633  0.55526049\n",
            " 0.56730638 0.57571112 0.58422537 0.60171928 0.61507926 0.60522353\n",
            " 0.59492978 0.60010403 0.59509404 0.61494237 0.60995976 0.62663235\n",
            " 0.62011663 0.62570154 0.6197881  0.62356613 0.62394941 0.62310072\n",
            " 0.63380513 0.6378843  0.64275741 0.63509185 0.66022394 0.66558984\n",
            " 0.69441783 0.71864648 0.67226983 0.68020916 0.69168013 0.71656583\n",
            " 0.71522435 0.71560763 0.71010485 0.73515482 0.75612561 0.73841268\n",
            " 0.75149889 0.72080926 0.74312153 0.75138938 0.74950037 0.74950037\n",
            " 0.77616558 0.77298984 0.79675309 0.80124292 0.80307718 0.79823145\n",
            " 0.81553371 0.82284338 0.80967503 0.80753963 0.82976976 0.81490404\n",
            " 0.81788814 0.76940345 0.76688477 0.79092178 0.77386591 0.79344047\n",
            " 0.80603389 0.91630848 0.94562926 0.95359597 0.95794891 1.\n",
            " 0.96944726 0.98713281 0.95042024 0.99022641 0.94005513 0.94005513\n",
            " 0.91228259 0.89390683 0.87387937 0.85336488 0.83319098 0.81390744\n",
            " 0.79587013 0.77930242 0.764332   0.75101197 0.73933458 0.72924376\n",
            " 0.72064364 0.71340883 0.7073943  0.70244128 0.69838643 0.69506705\n",
            " 0.69232583 0.69001555 0.68800259 0.68616879]\n",
            "22 day output [[0.68441296]]\n",
            "23 day input [0.51534481 0.54039478 0.55701262 0.5440633  0.55526049 0.56730638\n",
            " 0.57571112 0.58422537 0.60171928 0.61507926 0.60522353 0.59492978\n",
            " 0.60010403 0.59509404 0.61494237 0.60995976 0.62663235 0.62011663\n",
            " 0.62570154 0.6197881  0.62356613 0.62394941 0.62310072 0.63380513\n",
            " 0.6378843  0.64275741 0.63509185 0.66022394 0.66558984 0.69441783\n",
            " 0.71864648 0.67226983 0.68020916 0.69168013 0.71656583 0.71522435\n",
            " 0.71560763 0.71010485 0.73515482 0.75612561 0.73841268 0.75149889\n",
            " 0.72080926 0.74312153 0.75138938 0.74950037 0.74950037 0.77616558\n",
            " 0.77298984 0.79675309 0.80124292 0.80307718 0.79823145 0.81553371\n",
            " 0.82284338 0.80967503 0.80753963 0.82976976 0.81490404 0.81788814\n",
            " 0.76940345 0.76688477 0.79092178 0.77386591 0.79344047 0.80603389\n",
            " 0.91630848 0.94562926 0.95359597 0.95794891 1.         0.96944726\n",
            " 0.98713281 0.95042024 0.99022641 0.94005513 0.94005513 0.91228259\n",
            " 0.89390683 0.87387937 0.85336488 0.83319098 0.81390744 0.79587013\n",
            " 0.77930242 0.764332   0.75101197 0.73933458 0.72924376 0.72064364\n",
            " 0.71340883 0.7073943  0.70244128 0.69838643 0.69506705 0.69232583\n",
            " 0.69001555 0.68800259 0.68616879 0.68441296]\n",
            "23 day output [[0.6826523]]\n",
            "24 day input [0.54039478 0.55701262 0.5440633  0.55526049 0.56730638 0.57571112\n",
            " 0.58422537 0.60171928 0.61507926 0.60522353 0.59492978 0.60010403\n",
            " 0.59509404 0.61494237 0.60995976 0.62663235 0.62011663 0.62570154\n",
            " 0.6197881  0.62356613 0.62394941 0.62310072 0.63380513 0.6378843\n",
            " 0.64275741 0.63509185 0.66022394 0.66558984 0.69441783 0.71864648\n",
            " 0.67226983 0.68020916 0.69168013 0.71656583 0.71522435 0.71560763\n",
            " 0.71010485 0.73515482 0.75612561 0.73841268 0.75149889 0.72080926\n",
            " 0.74312153 0.75138938 0.74950037 0.74950037 0.77616558 0.77298984\n",
            " 0.79675309 0.80124292 0.80307718 0.79823145 0.81553371 0.82284338\n",
            " 0.80967503 0.80753963 0.82976976 0.81490404 0.81788814 0.76940345\n",
            " 0.76688477 0.79092178 0.77386591 0.79344047 0.80603389 0.91630848\n",
            " 0.94562926 0.95359597 0.95794891 1.         0.96944726 0.98713281\n",
            " 0.95042024 0.99022641 0.94005513 0.94005513 0.91228259 0.89390683\n",
            " 0.87387937 0.85336488 0.83319098 0.81390744 0.79587013 0.77930242\n",
            " 0.764332   0.75101197 0.73933458 0.72924376 0.72064364 0.71340883\n",
            " 0.7073943  0.70244128 0.69838643 0.69506705 0.69232583 0.69001555\n",
            " 0.68800259 0.68616879 0.68441296 0.68265229]\n",
            "24 day output [[0.6808213]]\n",
            "25 day input [0.55701262 0.5440633  0.55526049 0.56730638 0.57571112 0.58422537\n",
            " 0.60171928 0.61507926 0.60522353 0.59492978 0.60010403 0.59509404\n",
            " 0.61494237 0.60995976 0.62663235 0.62011663 0.62570154 0.6197881\n",
            " 0.62356613 0.62394941 0.62310072 0.63380513 0.6378843  0.64275741\n",
            " 0.63509185 0.66022394 0.66558984 0.69441783 0.71864648 0.67226983\n",
            " 0.68020916 0.69168013 0.71656583 0.71522435 0.71560763 0.71010485\n",
            " 0.73515482 0.75612561 0.73841268 0.75149889 0.72080926 0.74312153\n",
            " 0.75138938 0.74950037 0.74950037 0.77616558 0.77298984 0.79675309\n",
            " 0.80124292 0.80307718 0.79823145 0.81553371 0.82284338 0.80967503\n",
            " 0.80753963 0.82976976 0.81490404 0.81788814 0.76940345 0.76688477\n",
            " 0.79092178 0.77386591 0.79344047 0.80603389 0.91630848 0.94562926\n",
            " 0.95359597 0.95794891 1.         0.96944726 0.98713281 0.95042024\n",
            " 0.99022641 0.94005513 0.94005513 0.91228259 0.89390683 0.87387937\n",
            " 0.85336488 0.83319098 0.81390744 0.79587013 0.77930242 0.764332\n",
            " 0.75101197 0.73933458 0.72924376 0.72064364 0.71340883 0.7073943\n",
            " 0.70244128 0.69838643 0.69506705 0.69232583 0.69001555 0.68800259\n",
            " 0.68616879 0.68441296 0.68265229 0.6808213 ]\n",
            "25 day output [[0.67887235]]\n",
            "26 day input [0.5440633  0.55526049 0.56730638 0.57571112 0.58422537 0.60171928\n",
            " 0.61507926 0.60522353 0.59492978 0.60010403 0.59509404 0.61494237\n",
            " 0.60995976 0.62663235 0.62011663 0.62570154 0.6197881  0.62356613\n",
            " 0.62394941 0.62310072 0.63380513 0.6378843  0.64275741 0.63509185\n",
            " 0.66022394 0.66558984 0.69441783 0.71864648 0.67226983 0.68020916\n",
            " 0.69168013 0.71656583 0.71522435 0.71560763 0.71010485 0.73515482\n",
            " 0.75612561 0.73841268 0.75149889 0.72080926 0.74312153 0.75138938\n",
            " 0.74950037 0.74950037 0.77616558 0.77298984 0.79675309 0.80124292\n",
            " 0.80307718 0.79823145 0.81553371 0.82284338 0.80967503 0.80753963\n",
            " 0.82976976 0.81490404 0.81788814 0.76940345 0.76688477 0.79092178\n",
            " 0.77386591 0.79344047 0.80603389 0.91630848 0.94562926 0.95359597\n",
            " 0.95794891 1.         0.96944726 0.98713281 0.95042024 0.99022641\n",
            " 0.94005513 0.94005513 0.91228259 0.89390683 0.87387937 0.85336488\n",
            " 0.83319098 0.81390744 0.79587013 0.77930242 0.764332   0.75101197\n",
            " 0.73933458 0.72924376 0.72064364 0.71340883 0.7073943  0.70244128\n",
            " 0.69838643 0.69506705 0.69232583 0.69001555 0.68800259 0.68616879\n",
            " 0.68441296 0.68265229 0.6808213  0.67887235]\n",
            "26 day output [[0.6767734]]\n",
            "27 day input [0.55526049 0.56730638 0.57571112 0.58422537 0.60171928 0.61507926\n",
            " 0.60522353 0.59492978 0.60010403 0.59509404 0.61494237 0.60995976\n",
            " 0.62663235 0.62011663 0.62570154 0.6197881  0.62356613 0.62394941\n",
            " 0.62310072 0.63380513 0.6378843  0.64275741 0.63509185 0.66022394\n",
            " 0.66558984 0.69441783 0.71864648 0.67226983 0.68020916 0.69168013\n",
            " 0.71656583 0.71522435 0.71560763 0.71010485 0.73515482 0.75612561\n",
            " 0.73841268 0.75149889 0.72080926 0.74312153 0.75138938 0.74950037\n",
            " 0.74950037 0.77616558 0.77298984 0.79675309 0.80124292 0.80307718\n",
            " 0.79823145 0.81553371 0.82284338 0.80967503 0.80753963 0.82976976\n",
            " 0.81490404 0.81788814 0.76940345 0.76688477 0.79092178 0.77386591\n",
            " 0.79344047 0.80603389 0.91630848 0.94562926 0.95359597 0.95794891\n",
            " 1.         0.96944726 0.98713281 0.95042024 0.99022641 0.94005513\n",
            " 0.94005513 0.91228259 0.89390683 0.87387937 0.85336488 0.83319098\n",
            " 0.81390744 0.79587013 0.77930242 0.764332   0.75101197 0.73933458\n",
            " 0.72924376 0.72064364 0.71340883 0.7073943  0.70244128 0.69838643\n",
            " 0.69506705 0.69232583 0.69001555 0.68800259 0.68616879 0.68441296\n",
            " 0.68265229 0.6808213  0.67887235 0.67677343]\n",
            "27 day output [[0.6745073]]\n",
            "28 day input [0.56730638 0.57571112 0.58422537 0.60171928 0.61507926 0.60522353\n",
            " 0.59492978 0.60010403 0.59509404 0.61494237 0.60995976 0.62663235\n",
            " 0.62011663 0.62570154 0.6197881  0.62356613 0.62394941 0.62310072\n",
            " 0.63380513 0.6378843  0.64275741 0.63509185 0.66022394 0.66558984\n",
            " 0.69441783 0.71864648 0.67226983 0.68020916 0.69168013 0.71656583\n",
            " 0.71522435 0.71560763 0.71010485 0.73515482 0.75612561 0.73841268\n",
            " 0.75149889 0.72080926 0.74312153 0.75138938 0.74950037 0.74950037\n",
            " 0.77616558 0.77298984 0.79675309 0.80124292 0.80307718 0.79823145\n",
            " 0.81553371 0.82284338 0.80967503 0.80753963 0.82976976 0.81490404\n",
            " 0.81788814 0.76940345 0.76688477 0.79092178 0.77386591 0.79344047\n",
            " 0.80603389 0.91630848 0.94562926 0.95359597 0.95794891 1.\n",
            " 0.96944726 0.98713281 0.95042024 0.99022641 0.94005513 0.94005513\n",
            " 0.91228259 0.89390683 0.87387937 0.85336488 0.83319098 0.81390744\n",
            " 0.79587013 0.77930242 0.764332   0.75101197 0.73933458 0.72924376\n",
            " 0.72064364 0.71340883 0.7073943  0.70244128 0.69838643 0.69506705\n",
            " 0.69232583 0.69001555 0.68800259 0.68616879 0.68441296 0.68265229\n",
            " 0.6808213  0.67887235 0.67677343 0.67450732]\n",
            "28 day output [[0.6720689]]\n",
            "29 day input [0.57571112 0.58422537 0.60171928 0.61507926 0.60522353 0.59492978\n",
            " 0.60010403 0.59509404 0.61494237 0.60995976 0.62663235 0.62011663\n",
            " 0.62570154 0.6197881  0.62356613 0.62394941 0.62310072 0.63380513\n",
            " 0.6378843  0.64275741 0.63509185 0.66022394 0.66558984 0.69441783\n",
            " 0.71864648 0.67226983 0.68020916 0.69168013 0.71656583 0.71522435\n",
            " 0.71560763 0.71010485 0.73515482 0.75612561 0.73841268 0.75149889\n",
            " 0.72080926 0.74312153 0.75138938 0.74950037 0.74950037 0.77616558\n",
            " 0.77298984 0.79675309 0.80124292 0.80307718 0.79823145 0.81553371\n",
            " 0.82284338 0.80967503 0.80753963 0.82976976 0.81490404 0.81788814\n",
            " 0.76940345 0.76688477 0.79092178 0.77386591 0.79344047 0.80603389\n",
            " 0.91630848 0.94562926 0.95359597 0.95794891 1.         0.96944726\n",
            " 0.98713281 0.95042024 0.99022641 0.94005513 0.94005513 0.91228259\n",
            " 0.89390683 0.87387937 0.85336488 0.83319098 0.81390744 0.79587013\n",
            " 0.77930242 0.764332   0.75101197 0.73933458 0.72924376 0.72064364\n",
            " 0.71340883 0.7073943  0.70244128 0.69838643 0.69506705 0.69232583\n",
            " 0.69001555 0.68800259 0.68616879 0.68441296 0.68265229 0.6808213\n",
            " 0.67887235 0.67677343 0.67450732 0.67206889]\n",
            "29 day output [[0.6694644]]\n",
            "[[0.9122825860977173], [0.893906831741333], [0.8738793730735779], [0.853364884853363], [0.8331909775733948], [0.8139074444770813], [0.7958701252937317], [0.7793024182319641], [0.7643319964408875], [0.7510119676589966], [0.7393345832824707], [0.7292437553405762], [0.7206436395645142], [0.7134088277816772], [0.7073943018913269], [0.7024412751197815], [0.6983864307403564], [0.6950670480728149], [0.6923258304595947], [0.6900155544281006], [0.6880025863647461], [0.6861687898635864], [0.684412956237793], [0.6826522946357727], [0.6808212995529175], [0.6788723468780518], [0.6767734289169312], [0.6745073199272156], [0.6720688939094543], [0.6694644093513489]]\n"
          ],
          "name": "stdout"
        }
      ]
    },
    {
      "cell_type": "code",
      "metadata": {
        "id": "ER3fscQIQ30e",
        "colab_type": "code",
        "colab": {}
      },
      "source": [
        "day_new=np.arange(1,101)\n",
        "day_pred=np.arange(101,131)"
      ],
      "execution_count": 77,
      "outputs": []
    },
    {
      "cell_type": "code",
      "metadata": {
        "id": "TSu2eVxwQ30h",
        "colab_type": "code",
        "colab": {}
      },
      "source": [
        "import matplotlib.pyplot as plt"
      ],
      "execution_count": 78,
      "outputs": []
    },
    {
      "cell_type": "code",
      "metadata": {
        "id": "znsiVXNdQ30j",
        "colab_type": "code",
        "colab": {
          "base_uri": "https://localhost:8080/",
          "height": 34
        },
        "outputId": "a41e3c4a-f268-4a5c-9d58-d866a9ebc296"
      },
      "source": [
        "len(df1)"
      ],
      "execution_count": 79,
      "outputs": [
        {
          "output_type": "execute_result",
          "data": {
            "text/plain": [
              "1257"
            ]
          },
          "metadata": {
            "tags": []
          },
          "execution_count": 79
        }
      ]
    },
    {
      "cell_type": "code",
      "metadata": {
        "id": "qYgQsaTnQ30m",
        "colab_type": "code",
        "colab": {}
      },
      "source": [
        ""
      ],
      "execution_count": null,
      "outputs": []
    },
    {
      "cell_type": "code",
      "metadata": {
        "id": "5FW4sl7HQ30n",
        "colab_type": "code",
        "colab": {
          "base_uri": "https://localhost:8080/",
          "height": 282
        },
        "outputId": "a324f1e3-c321-4f4d-9fb4-8b954c19fc47"
      },
      "source": [
        "plt.plot(day_new,scaler.inverse_transform(df1[1157:]))\n",
        "plt.plot(day_pred,scaler.inverse_transform(lst_output))"
      ],
      "execution_count": 83,
      "outputs": [
        {
          "output_type": "execute_result",
          "data": {
            "text/plain": [
              "[<matplotlib.lines.Line2D at 0x7f29106712e8>]"
            ]
          },
          "metadata": {
            "tags": []
          },
          "execution_count": 83
        },
        {
          "output_type": "display_data",
          "data": {
            "image/png": "[encoded data removed]",
            "text/plain": [
              "<Figure size 432x288 with 1 Axes>"
            ]
          },
          "metadata": {
            "tags": [],
            "needs_background": "light"
          }
        }
      ]
    },
    {
      "cell_type": "code",
      "metadata": {
        "id": "670FWGOtQ30p",
        "colab_type": "code",
        "colab": {
          "base_uri": "https://localhost:8080/",
          "height": 282
        },
        "outputId": "0ef34424-ed83-4142-d1ba-15b5e655a597"
      },
      "source": [
        "df3=df1.tolist()\n",
        "df3.extend(lst_output)\n",
        "plt.plot(df3[1200:])"
      ],
      "execution_count": 84,
      "outputs": [
        {
          "output_type": "execute_result",
          "data": {
            "text/plain": [
              "[<matplotlib.lines.Line2D at 0x7f291061c9e8>]"
            ]
          },
          "metadata": {
            "tags": []
          },
          "execution_count": 84
        },
        {
          "output_type": "display_data",
          "data": {
            "image/png": "[encoded data removed]",
            "text/plain": [
              "<Figure size 432x288 with 1 Axes>"
            ]
          },
          "metadata": {
            "tags": [],
            "needs_background": "light"
          }
        }
      ]
    },
    {
      "cell_type": "code",
      "metadata": {
        "id": "J3v_rap3Q30r",
        "colab_type": "code",
        "colab": {}
      },
      "source": [
        "df3=scaler.inverse_transform(df3).tolist()"
      ],
      "execution_count": 85,
      "outputs": []
    },
    {
      "cell_type": "code",
      "metadata": {
        "id": "odQBzfoXQ30t",
        "colab_type": "code",
        "colab": {
          "base_uri": "https://localhost:8080/",
          "height": 282
        },
        "outputId": "dc3889ca-8d34-42d8-d3e1-24d2b9e54187"
      },
      "source": [
        "plt.plot(df3)"
      ],
      "execution_count": 86,
      "outputs": [
        {
          "output_type": "execute_result",
          "data": {
            "text/plain": [
              "[<matplotlib.lines.Line2D at 0x7f29105f9fd0>]"
            ]
          },
          "metadata": {
            "tags": []
          },
          "execution_count": 86
        },
        {
          "output_type": "display_data",
          "data": {
            "image/png": "[encoded data removed]",
            "text/plain": [
              "<Figure size 432x288 with 1 Axes>"
            ]
          },
          "metadata": {
            "tags": [],
            "needs_background": "light"
          }
        }
      ]
    },
    {
      "cell_type": "code",
      "metadata": {
        "id": "xK93g0jZQ30x",
        "colab_type": "code",
        "colab": {}
      },
      "source": [
        ""
      ],
      "execution_count": null,
      "outputs": []
    }
  ]
}